{
  "cells": [
    {
      "cell_type": "markdown",
      "metadata": {
        "id": "view-in-github",
        "colab_type": "text"
      },
      "source": [
        "<a href=\"https://colab.research.google.com/github/maha-rw/Handwritten-Digits-Recognition-in-Both-Arabic-and-English/blob/main/Handwritten_Digits_Recognition_Model_2___RandomForest_.ipynb\" target=\"_parent\"><img src=\"https://colab.research.google.com/assets/colab-badge.svg\" alt=\"Open In Colab\"/></a>"
      ]
    },
    {
      "cell_type": "markdown",
      "metadata": {
        "id": "7-2HMLRAg-B0"
      },
      "source": [
        "**Handwritten Digits Recognition - Model #2 : Random Forest**"
      ]
    },
    {
      "cell_type": "markdown",
      "metadata": {
        "id": "jT73UoNa5qLX"
      },
      "source": [
        "##**Notebook Introduction**\n",
        "*  This notebook aims to utilize a neural network for the task of recognizing handwritten digits. The objective of this project is to develop a machine learning model that can accurately classify images of handwritten digits into their respective numeric values.\n",
        "\n",
        "\n",
        "*  This notebook is divided into two main sections:\n",
        "   1.   Arabic Dataset\n",
        "   2.   English Dataset\n",
        "\n",
        "\n",
        "\n",
        "*  both datasets have identical code in hyperparameter tuning but differ in loading the data due to different conditions of datsets files.\n",
        "\n",
        "\n",
        "*  To run the desired dataset, execute the section dedicated to it.\n",
        "\n",
        "\n"
      ]
    },
    {
      "cell_type": "markdown",
      "metadata": {
        "id": "co90mXcX58vY"
      },
      "source": [
        "\n",
        "*   **Used Technique**\n",
        "\n",
        "\n",
        "\n",
        "In this notebook we are going to implement the random forest model which is an ensemble of decision trees. It combines predictions from multiple trees to make accurate predictions. It uses random sampling and random feature selection to introduce diversity and reduce overfitting."
      ]
    },
    {
      "cell_type": "markdown",
      "metadata": {
        "id": "XxKaR-yMpc_s"
      },
      "source": [
        "##**import relevent modules**"
      ]
    },
    {
      "cell_type": "code",
      "execution_count": null,
      "metadata": {
        "id": "QUSgOJmqPocU"
      },
      "outputs": [],
      "source": [
        "from google.colab import drive\n",
        "from sklearn.ensemble import RandomForestClassifier\n",
        "from sklearn.model_selection import train_test_split, GridSearchCV\n",
        "from sklearn.metrics import accuracy_score\n",
        "import pandas as pd\n",
        "from sklearn.metrics import classification_report, precision_score, recall_score, confusion_matrix\n",
        "import seaborn as sns\n",
        "import matplotlib.pyplot as plt\n"
      ]
    },
    {
      "cell_type": "markdown",
      "metadata": {
        "id": "iGD4Gp60CT60"
      },
      "source": [
        "#**Dataset 1: Arabic Dataset**"
      ]
    },
    {
      "cell_type": "markdown",
      "metadata": {
        "id": "uSkRQ0dxCltX"
      },
      "source": [
        "**Loading the data**"
      ]
    },
    {
      "cell_type": "code",
      "execution_count": null,
      "metadata": {
        "colab": {
          "base_uri": "https://localhost:8080/"
        },
        "id": "TvyMdD48OATs",
        "outputId": "3bc03264-a070-4662-b490-713148e0554b"
      },
      "outputs": [
        {
          "output_type": "stream",
          "name": "stdout",
          "text": [
            "Mounted at /content/drive\n",
            "(59999, 784)\n",
            "(59999, 1)\n"
          ]
        }
      ],
      "source": [
        "drive.mount('/content/drive')\n",
        "X_train = pd.read_csv(\"/content/drive/MyDrive/Handwritten Digits Recognition Project/Group4-Datasets/csvTrainImages 60k x 784.csv\").values\n",
        "Y_train = pd.read_csv(\"/content/drive/MyDrive/Handwritten Digits Recognition Project/Group4-Datasets/csvTrainLabel 60k x 1.csv\").values\n",
        "X_test = pd.read_csv(\"/content/drive/MyDrive/Handwritten Digits Recognition Project/Group4-Datasets/csvTestImages 10k x 784.csv\").values\n",
        "Y_test = pd.read_csv(\"/content/drive/MyDrive/Handwritten Digits Recognition Project/Group4-Datasets/csvTestLabel 10k x 1.csv\").values\n",
        "print (X_train.shape )\n",
        "print (Y_train.shape)"
      ]
    },
    {
      "cell_type": "markdown",
      "metadata": {
        "id": "GendlzeZXwJT"
      },
      "source": [
        "We need to normalize the pixel values of the images to a range between 0 and 1. To achieve this, we divide the pixel values by 255, which is the maximum pixel value. Normalization is necessary to ensure that all pixel values are within a consistent and standardized range. This helps the model learn more effectively and improves convergence during training."
      ]
    },
    {
      "cell_type": "code",
      "execution_count": null,
      "metadata": {
        "colab": {
          "base_uri": "https://localhost:8080/"
        },
        "id": "tP6Kcapub20f",
        "outputId": "4a534594-68bd-4e78-d9b0-87c102ab17e9"
      },
      "outputs": [
        {
          "output_type": "stream",
          "name": "stdout",
          "text": [
            "Train set shape: (59999, 784)\n",
            "Test set shape: (9999, 784)\n"
          ]
        }
      ],
      "source": [
        "# Normalize the data\n",
        "X_train = X_train / 255.0\n",
        "X_test = X_test / 255.0\n",
        "\n",
        "# Print the shapes of the datasets\n",
        "print(\"Train set shape:\", X_train.shape)\n",
        "print(\"Test set shape:\", X_test.shape)"
      ]
    },
    {
      "cell_type": "markdown",
      "metadata": {
        "id": "-nfeSLlsru_U"
      },
      "source": [
        "**Define the hyperparameters to tune**"
      ]
    },
    {
      "cell_type": "code",
      "execution_count": null,
      "metadata": {
        "id": "EGacs2ESeQ9I"
      },
      "outputs": [],
      "source": [
        "param_grid = {\n",
        "    'n_estimators': [100, 200, 300],\n",
        "    'max_depth': [5, 10, 15, 20],\n",
        "}"
      ]
    },
    {
      "cell_type": "markdown",
      "metadata": {
        "id": "0-cqgYFtr8vP"
      },
      "source": [
        "**Create a Random Forest classifier**"
      ]
    },
    {
      "cell_type": "code",
      "execution_count": null,
      "metadata": {
        "id": "6L4hIPSEeVyv"
      },
      "outputs": [],
      "source": [
        "rf_classifier = RandomForestClassifier(random_state=42)"
      ]
    },
    {
      "cell_type": "markdown",
      "metadata": {
        "id": "W1N_LqbnsAAq"
      },
      "source": [
        "**Perform grid search to find the best hyperparameters**"
      ]
    },
    {
      "cell_type": "code",
      "execution_count": null,
      "metadata": {
        "colab": {
          "base_uri": "https://localhost:8080/"
        },
        "id": "fvzzBiCdejry",
        "outputId": "86a04fa5-cd83-49d9-8f3f-79c5bb332592"
      },
      "outputs": [
        {
          "output_type": "stream",
          "name": "stderr",
          "text": [
            "/usr/local/lib/python3.10/dist-packages/sklearn/model_selection/_validation.py:686: DataConversionWarning: A column-vector y was passed when a 1d array was expected. Please change the shape of y to (n_samples,), for example using ravel().\n",
            "  estimator.fit(X_train, y_train, **fit_params)\n",
            "/usr/local/lib/python3.10/dist-packages/sklearn/model_selection/_validation.py:686: DataConversionWarning: A column-vector y was passed when a 1d array was expected. Please change the shape of y to (n_samples,), for example using ravel().\n",
            "  estimator.fit(X_train, y_train, **fit_params)\n",
            "/usr/local/lib/python3.10/dist-packages/sklearn/model_selection/_validation.py:686: DataConversionWarning: A column-vector y was passed when a 1d array was expected. Please change the shape of y to (n_samples,), for example using ravel().\n",
            "  estimator.fit(X_train, y_train, **fit_params)\n",
            "/usr/local/lib/python3.10/dist-packages/sklearn/model_selection/_validation.py:686: DataConversionWarning: A column-vector y was passed when a 1d array was expected. Please change the shape of y to (n_samples,), for example using ravel().\n",
            "  estimator.fit(X_train, y_train, **fit_params)\n",
            "/usr/local/lib/python3.10/dist-packages/sklearn/model_selection/_validation.py:686: DataConversionWarning: A column-vector y was passed when a 1d array was expected. Please change the shape of y to (n_samples,), for example using ravel().\n",
            "  estimator.fit(X_train, y_train, **fit_params)\n",
            "/usr/local/lib/python3.10/dist-packages/sklearn/model_selection/_validation.py:686: DataConversionWarning: A column-vector y was passed when a 1d array was expected. Please change the shape of y to (n_samples,), for example using ravel().\n",
            "  estimator.fit(X_train, y_train, **fit_params)\n",
            "/usr/local/lib/python3.10/dist-packages/sklearn/model_selection/_validation.py:686: DataConversionWarning: A column-vector y was passed when a 1d array was expected. Please change the shape of y to (n_samples,), for example using ravel().\n",
            "  estimator.fit(X_train, y_train, **fit_params)\n",
            "/usr/local/lib/python3.10/dist-packages/sklearn/model_selection/_validation.py:686: DataConversionWarning: A column-vector y was passed when a 1d array was expected. Please change the shape of y to (n_samples,), for example using ravel().\n",
            "  estimator.fit(X_train, y_train, **fit_params)\n",
            "/usr/local/lib/python3.10/dist-packages/sklearn/model_selection/_validation.py:686: DataConversionWarning: A column-vector y was passed when a 1d array was expected. Please change the shape of y to (n_samples,), for example using ravel().\n",
            "  estimator.fit(X_train, y_train, **fit_params)\n",
            "/usr/local/lib/python3.10/dist-packages/sklearn/model_selection/_validation.py:686: DataConversionWarning: A column-vector y was passed when a 1d array was expected. Please change the shape of y to (n_samples,), for example using ravel().\n",
            "  estimator.fit(X_train, y_train, **fit_params)\n",
            "/usr/local/lib/python3.10/dist-packages/sklearn/model_selection/_validation.py:686: DataConversionWarning: A column-vector y was passed when a 1d array was expected. Please change the shape of y to (n_samples,), for example using ravel().\n",
            "  estimator.fit(X_train, y_train, **fit_params)\n",
            "/usr/local/lib/python3.10/dist-packages/sklearn/model_selection/_validation.py:686: DataConversionWarning: A column-vector y was passed when a 1d array was expected. Please change the shape of y to (n_samples,), for example using ravel().\n",
            "  estimator.fit(X_train, y_train, **fit_params)\n",
            "/usr/local/lib/python3.10/dist-packages/sklearn/model_selection/_validation.py:686: DataConversionWarning: A column-vector y was passed when a 1d array was expected. Please change the shape of y to (n_samples,), for example using ravel().\n",
            "  estimator.fit(X_train, y_train, **fit_params)\n",
            "/usr/local/lib/python3.10/dist-packages/sklearn/model_selection/_validation.py:686: DataConversionWarning: A column-vector y was passed when a 1d array was expected. Please change the shape of y to (n_samples,), for example using ravel().\n",
            "  estimator.fit(X_train, y_train, **fit_params)\n",
            "/usr/local/lib/python3.10/dist-packages/sklearn/model_selection/_validation.py:686: DataConversionWarning: A column-vector y was passed when a 1d array was expected. Please change the shape of y to (n_samples,), for example using ravel().\n",
            "  estimator.fit(X_train, y_train, **fit_params)\n",
            "/usr/local/lib/python3.10/dist-packages/sklearn/model_selection/_validation.py:686: DataConversionWarning: A column-vector y was passed when a 1d array was expected. Please change the shape of y to (n_samples,), for example using ravel().\n",
            "  estimator.fit(X_train, y_train, **fit_params)\n",
            "/usr/local/lib/python3.10/dist-packages/sklearn/model_selection/_validation.py:686: DataConversionWarning: A column-vector y was passed when a 1d array was expected. Please change the shape of y to (n_samples,), for example using ravel().\n",
            "  estimator.fit(X_train, y_train, **fit_params)\n",
            "/usr/local/lib/python3.10/dist-packages/sklearn/model_selection/_validation.py:686: DataConversionWarning: A column-vector y was passed when a 1d array was expected. Please change the shape of y to (n_samples,), for example using ravel().\n",
            "  estimator.fit(X_train, y_train, **fit_params)\n",
            "/usr/local/lib/python3.10/dist-packages/sklearn/model_selection/_validation.py:686: DataConversionWarning: A column-vector y was passed when a 1d array was expected. Please change the shape of y to (n_samples,), for example using ravel().\n",
            "  estimator.fit(X_train, y_train, **fit_params)\n",
            "/usr/local/lib/python3.10/dist-packages/sklearn/model_selection/_validation.py:686: DataConversionWarning: A column-vector y was passed when a 1d array was expected. Please change the shape of y to (n_samples,), for example using ravel().\n",
            "  estimator.fit(X_train, y_train, **fit_params)\n",
            "/usr/local/lib/python3.10/dist-packages/sklearn/model_selection/_validation.py:686: DataConversionWarning: A column-vector y was passed when a 1d array was expected. Please change the shape of y to (n_samples,), for example using ravel().\n",
            "  estimator.fit(X_train, y_train, **fit_params)\n",
            "/usr/local/lib/python3.10/dist-packages/sklearn/model_selection/_validation.py:686: DataConversionWarning: A column-vector y was passed when a 1d array was expected. Please change the shape of y to (n_samples,), for example using ravel().\n",
            "  estimator.fit(X_train, y_train, **fit_params)\n",
            "/usr/local/lib/python3.10/dist-packages/sklearn/model_selection/_validation.py:686: DataConversionWarning: A column-vector y was passed when a 1d array was expected. Please change the shape of y to (n_samples,), for example using ravel().\n",
            "  estimator.fit(X_train, y_train, **fit_params)\n",
            "/usr/local/lib/python3.10/dist-packages/sklearn/model_selection/_validation.py:686: DataConversionWarning: A column-vector y was passed when a 1d array was expected. Please change the shape of y to (n_samples,), for example using ravel().\n",
            "  estimator.fit(X_train, y_train, **fit_params)\n",
            "/usr/local/lib/python3.10/dist-packages/sklearn/model_selection/_validation.py:686: DataConversionWarning: A column-vector y was passed when a 1d array was expected. Please change the shape of y to (n_samples,), for example using ravel().\n",
            "  estimator.fit(X_train, y_train, **fit_params)\n",
            "/usr/local/lib/python3.10/dist-packages/sklearn/model_selection/_validation.py:686: DataConversionWarning: A column-vector y was passed when a 1d array was expected. Please change the shape of y to (n_samples,), for example using ravel().\n",
            "  estimator.fit(X_train, y_train, **fit_params)\n",
            "/usr/local/lib/python3.10/dist-packages/sklearn/model_selection/_validation.py:686: DataConversionWarning: A column-vector y was passed when a 1d array was expected. Please change the shape of y to (n_samples,), for example using ravel().\n",
            "  estimator.fit(X_train, y_train, **fit_params)\n",
            "/usr/local/lib/python3.10/dist-packages/sklearn/model_selection/_validation.py:686: DataConversionWarning: A column-vector y was passed when a 1d array was expected. Please change the shape of y to (n_samples,), for example using ravel().\n",
            "  estimator.fit(X_train, y_train, **fit_params)\n",
            "/usr/local/lib/python3.10/dist-packages/sklearn/model_selection/_validation.py:686: DataConversionWarning: A column-vector y was passed when a 1d array was expected. Please change the shape of y to (n_samples,), for example using ravel().\n",
            "  estimator.fit(X_train, y_train, **fit_params)\n",
            "/usr/local/lib/python3.10/dist-packages/sklearn/model_selection/_validation.py:686: DataConversionWarning: A column-vector y was passed when a 1d array was expected. Please change the shape of y to (n_samples,), for example using ravel().\n",
            "  estimator.fit(X_train, y_train, **fit_params)\n",
            "/usr/local/lib/python3.10/dist-packages/sklearn/model_selection/_validation.py:686: DataConversionWarning: A column-vector y was passed when a 1d array was expected. Please change the shape of y to (n_samples,), for example using ravel().\n",
            "  estimator.fit(X_train, y_train, **fit_params)\n",
            "/usr/local/lib/python3.10/dist-packages/sklearn/model_selection/_validation.py:686: DataConversionWarning: A column-vector y was passed when a 1d array was expected. Please change the shape of y to (n_samples,), for example using ravel().\n",
            "  estimator.fit(X_train, y_train, **fit_params)\n",
            "/usr/local/lib/python3.10/dist-packages/sklearn/model_selection/_validation.py:686: DataConversionWarning: A column-vector y was passed when a 1d array was expected. Please change the shape of y to (n_samples,), for example using ravel().\n",
            "  estimator.fit(X_train, y_train, **fit_params)\n",
            "/usr/local/lib/python3.10/dist-packages/sklearn/model_selection/_validation.py:686: DataConversionWarning: A column-vector y was passed when a 1d array was expected. Please change the shape of y to (n_samples,), for example using ravel().\n",
            "  estimator.fit(X_train, y_train, **fit_params)\n",
            "/usr/local/lib/python3.10/dist-packages/sklearn/model_selection/_validation.py:686: DataConversionWarning: A column-vector y was passed when a 1d array was expected. Please change the shape of y to (n_samples,), for example using ravel().\n",
            "  estimator.fit(X_train, y_train, **fit_params)\n",
            "/usr/local/lib/python3.10/dist-packages/sklearn/model_selection/_validation.py:686: DataConversionWarning: A column-vector y was passed when a 1d array was expected. Please change the shape of y to (n_samples,), for example using ravel().\n",
            "  estimator.fit(X_train, y_train, **fit_params)\n",
            "/usr/local/lib/python3.10/dist-packages/sklearn/model_selection/_validation.py:686: DataConversionWarning: A column-vector y was passed when a 1d array was expected. Please change the shape of y to (n_samples,), for example using ravel().\n",
            "  estimator.fit(X_train, y_train, **fit_params)\n",
            "/usr/local/lib/python3.10/dist-packages/sklearn/model_selection/_validation.py:686: DataConversionWarning: A column-vector y was passed when a 1d array was expected. Please change the shape of y to (n_samples,), for example using ravel().\n",
            "  estimator.fit(X_train, y_train, **fit_params)\n",
            "/usr/local/lib/python3.10/dist-packages/sklearn/model_selection/_validation.py:686: DataConversionWarning: A column-vector y was passed when a 1d array was expected. Please change the shape of y to (n_samples,), for example using ravel().\n",
            "  estimator.fit(X_train, y_train, **fit_params)\n",
            "/usr/local/lib/python3.10/dist-packages/sklearn/model_selection/_validation.py:686: DataConversionWarning: A column-vector y was passed when a 1d array was expected. Please change the shape of y to (n_samples,), for example using ravel().\n",
            "  estimator.fit(X_train, y_train, **fit_params)\n",
            "/usr/local/lib/python3.10/dist-packages/sklearn/model_selection/_validation.py:686: DataConversionWarning: A column-vector y was passed when a 1d array was expected. Please change the shape of y to (n_samples,), for example using ravel().\n",
            "  estimator.fit(X_train, y_train, **fit_params)\n",
            "/usr/local/lib/python3.10/dist-packages/sklearn/model_selection/_validation.py:686: DataConversionWarning: A column-vector y was passed when a 1d array was expected. Please change the shape of y to (n_samples,), for example using ravel().\n",
            "  estimator.fit(X_train, y_train, **fit_params)\n",
            "/usr/local/lib/python3.10/dist-packages/sklearn/model_selection/_validation.py:686: DataConversionWarning: A column-vector y was passed when a 1d array was expected. Please change the shape of y to (n_samples,), for example using ravel().\n",
            "  estimator.fit(X_train, y_train, **fit_params)\n",
            "/usr/local/lib/python3.10/dist-packages/sklearn/model_selection/_validation.py:686: DataConversionWarning: A column-vector y was passed when a 1d array was expected. Please change the shape of y to (n_samples,), for example using ravel().\n",
            "  estimator.fit(X_train, y_train, **fit_params)\n",
            "/usr/local/lib/python3.10/dist-packages/sklearn/model_selection/_validation.py:686: DataConversionWarning: A column-vector y was passed when a 1d array was expected. Please change the shape of y to (n_samples,), for example using ravel().\n",
            "  estimator.fit(X_train, y_train, **fit_params)\n",
            "/usr/local/lib/python3.10/dist-packages/sklearn/model_selection/_validation.py:686: DataConversionWarning: A column-vector y was passed when a 1d array was expected. Please change the shape of y to (n_samples,), for example using ravel().\n",
            "  estimator.fit(X_train, y_train, **fit_params)\n",
            "/usr/local/lib/python3.10/dist-packages/sklearn/model_selection/_validation.py:686: DataConversionWarning: A column-vector y was passed when a 1d array was expected. Please change the shape of y to (n_samples,), for example using ravel().\n",
            "  estimator.fit(X_train, y_train, **fit_params)\n",
            "/usr/local/lib/python3.10/dist-packages/sklearn/model_selection/_validation.py:686: DataConversionWarning: A column-vector y was passed when a 1d array was expected. Please change the shape of y to (n_samples,), for example using ravel().\n",
            "  estimator.fit(X_train, y_train, **fit_params)\n",
            "/usr/local/lib/python3.10/dist-packages/sklearn/model_selection/_validation.py:686: DataConversionWarning: A column-vector y was passed when a 1d array was expected. Please change the shape of y to (n_samples,), for example using ravel().\n",
            "  estimator.fit(X_train, y_train, **fit_params)\n",
            "/usr/local/lib/python3.10/dist-packages/sklearn/model_selection/_validation.py:686: DataConversionWarning: A column-vector y was passed when a 1d array was expected. Please change the shape of y to (n_samples,), for example using ravel().\n",
            "  estimator.fit(X_train, y_train, **fit_params)\n",
            "/usr/local/lib/python3.10/dist-packages/sklearn/model_selection/_validation.py:686: DataConversionWarning: A column-vector y was passed when a 1d array was expected. Please change the shape of y to (n_samples,), for example using ravel().\n",
            "  estimator.fit(X_train, y_train, **fit_params)\n",
            "/usr/local/lib/python3.10/dist-packages/sklearn/model_selection/_validation.py:686: DataConversionWarning: A column-vector y was passed when a 1d array was expected. Please change the shape of y to (n_samples,), for example using ravel().\n",
            "  estimator.fit(X_train, y_train, **fit_params)\n",
            "/usr/local/lib/python3.10/dist-packages/sklearn/model_selection/_validation.py:686: DataConversionWarning: A column-vector y was passed when a 1d array was expected. Please change the shape of y to (n_samples,), for example using ravel().\n",
            "  estimator.fit(X_train, y_train, **fit_params)\n",
            "/usr/local/lib/python3.10/dist-packages/sklearn/model_selection/_validation.py:686: DataConversionWarning: A column-vector y was passed when a 1d array was expected. Please change the shape of y to (n_samples,), for example using ravel().\n",
            "  estimator.fit(X_train, y_train, **fit_params)\n",
            "/usr/local/lib/python3.10/dist-packages/sklearn/model_selection/_validation.py:686: DataConversionWarning: A column-vector y was passed when a 1d array was expected. Please change the shape of y to (n_samples,), for example using ravel().\n",
            "  estimator.fit(X_train, y_train, **fit_params)\n",
            "/usr/local/lib/python3.10/dist-packages/sklearn/model_selection/_validation.py:686: DataConversionWarning: A column-vector y was passed when a 1d array was expected. Please change the shape of y to (n_samples,), for example using ravel().\n",
            "  estimator.fit(X_train, y_train, **fit_params)\n",
            "/usr/local/lib/python3.10/dist-packages/sklearn/model_selection/_validation.py:686: DataConversionWarning: A column-vector y was passed when a 1d array was expected. Please change the shape of y to (n_samples,), for example using ravel().\n",
            "  estimator.fit(X_train, y_train, **fit_params)\n",
            "/usr/local/lib/python3.10/dist-packages/sklearn/model_selection/_validation.py:686: DataConversionWarning: A column-vector y was passed when a 1d array was expected. Please change the shape of y to (n_samples,), for example using ravel().\n",
            "  estimator.fit(X_train, y_train, **fit_params)\n",
            "/usr/local/lib/python3.10/dist-packages/sklearn/model_selection/_validation.py:686: DataConversionWarning: A column-vector y was passed when a 1d array was expected. Please change the shape of y to (n_samples,), for example using ravel().\n",
            "  estimator.fit(X_train, y_train, **fit_params)\n",
            "/usr/local/lib/python3.10/dist-packages/sklearn/model_selection/_validation.py:686: DataConversionWarning: A column-vector y was passed when a 1d array was expected. Please change the shape of y to (n_samples,), for example using ravel().\n",
            "  estimator.fit(X_train, y_train, **fit_params)\n",
            "/usr/local/lib/python3.10/dist-packages/sklearn/model_selection/_search.py:909: DataConversionWarning: A column-vector y was passed when a 1d array was expected. Please change the shape of y to (n_samples,), for example using ravel().\n",
            "  self.best_estimator_.fit(X, y, **fit_params)\n"
          ]
        },
        {
          "output_type": "stream",
          "name": "stdout",
          "text": [
            "Best Hyperparameters:\n",
            "{'max_depth': 20, 'n_estimators': 300}\n"
          ]
        }
      ],
      "source": [
        "grid_search = GridSearchCV(estimator=rf_classifier, param_grid=param_grid, cv=5)\n",
        "grid_search.fit(X_train, Y_train)\n",
        "\n",
        "# Get the best hyperparameters\n",
        "best_params = grid_search.best_params_\n",
        "\n",
        "# Print the best hyperparameters\n",
        "print(\"Best Hyperparameters:\")\n",
        "print(grid_search.best_params_)"
      ]
    },
    {
      "cell_type": "markdown",
      "metadata": {
        "id": "idSC2TQgsGgS"
      },
      "source": [
        "**Create a new Random Forest classifier with the best hyperparameters**"
      ]
    },
    {
      "cell_type": "code",
      "execution_count": null,
      "metadata": {
        "id": "YDmkyhjzfQas"
      },
      "outputs": [],
      "source": [
        "best_rf_classifier = RandomForestClassifier(random_state=42, **best_params)"
      ]
    },
    {
      "cell_type": "markdown",
      "metadata": {
        "id": "WAPkc7k0sK99"
      },
      "source": [
        "**Train the model with the best hyperparameters and make predictions on the test set**"
      ]
    },
    {
      "cell_type": "code",
      "execution_count": null,
      "metadata": {
        "colab": {
          "base_uri": "https://localhost:8080/"
        },
        "id": "7xQe_2lAfTYA",
        "outputId": "fba42589-9867-4cc8-c13d-5591651304e4"
      },
      "outputs": [
        {
          "output_type": "stream",
          "name": "stderr",
          "text": [
            "<ipython-input-11-f71dcd2b55bb>:1: DataConversionWarning: A column-vector y was passed when a 1d array was expected. Please change the shape of y to (n_samples,), for example using ravel().\n",
            "  best_rf_classifier.fit(X_train, Y_train)\n"
          ]
        }
      ],
      "source": [
        "best_rf_classifier.fit(X_train, Y_train)\n",
        "y_pred = best_rf_classifier.predict(X_test)"
      ]
    },
    {
      "cell_type": "markdown",
      "source": [
        "**Evaluate the model**"
      ],
      "metadata": {
        "id": "jG8vvsrLpR5I"
      }
    },
    {
      "cell_type": "code",
      "source": [
        "print(classification_report(Y_test, y_pred))"
      ],
      "metadata": {
        "id": "wuucJrEiAzE3",
        "colab": {
          "base_uri": "https://localhost:8080/"
        },
        "outputId": "2140f691-99dc-435f-8cf2-3c0f3ed5c1d3"
      },
      "execution_count": null,
      "outputs": [
        {
          "output_type": "stream",
          "name": "stdout",
          "text": [
            "              precision    recall  f1-score   support\n",
            "\n",
            "           0       0.98      0.98      0.98       999\n",
            "           1       0.99      0.98      0.99      1000\n",
            "           2       0.97      0.98      0.97      1000\n",
            "           3       0.99      0.97      0.98      1000\n",
            "           4       0.99      0.98      0.98      1000\n",
            "           5       0.98      0.98      0.98      1000\n",
            "           6       0.99      0.99      0.99      1000\n",
            "           7       1.00      0.99      0.99      1000\n",
            "           8       0.99      0.99      0.99      1000\n",
            "           9       0.98      0.99      0.98      1000\n",
            "\n",
            "    accuracy                           0.98      9999\n",
            "   macro avg       0.98      0.98      0.98      9999\n",
            "weighted avg       0.98      0.98      0.98      9999\n",
            "\n"
          ]
        }
      ]
    },
    {
      "cell_type": "code",
      "source": [
        "# Calculate and plot the confusion matrix\n",
        "conf_matrix = confusion_matrix(Y_test, y_pred)\n",
        "\n",
        "# Visualize the confusion matrix using seaborn heatmap\n",
        "plt.figure(figsize=(8, 6))\n",
        "sns.heatmap(conf_matrix, square=True, annot=True, fmt='d', cbar=False)\n",
        "plt.xlabel('Predicted Labels')\n",
        "plt.ylabel('True Labels')\n",
        "plt.title('Confusion Matrix')\n",
        "plt.show()"
      ],
      "metadata": {
        "colab": {
          "base_uri": "https://localhost:8080/",
          "height": 564
        },
        "id": "V70K5kma0ox8",
        "outputId": "e5ded0bb-cf68-4573-ad66-e6f86750ce1f"
      },
      "execution_count": null,
      "outputs": [
        {
          "output_type": "display_data",
          "data": {
            "text/plain": [
              "<Figure size 800x600 with 1 Axes>"
            ],
            "image/png": "[encoded data removed]"
          },
          "metadata": {}
        }
      ]
    },
    {
      "cell_type": "code",
      "execution_count": null,
      "metadata": {
        "colab": {
          "base_uri": "https://localhost:8080/"
        },
        "id": "VAZHUsY_xCuj",
        "outputId": "8f502ee2-a7df-404d-de29-425f135a3c77"
      },
      "outputs": [
        {
          "output_type": "stream",
          "name": "stdout",
          "text": [
            "Top 10 Evaluation Results:\n",
            "Accuracy: 0.9858 | Parameters: {'max_depth': 20, 'n_estimators': 300}\n",
            "Accuracy: 0.9857 | Parameters: {'max_depth': 20, 'n_estimators': 200}\n",
            "Accuracy: 0.9853 | Parameters: {'max_depth': 20, 'n_estimators': 100}\n",
            "Accuracy: 0.9844 | Parameters: {'max_depth': 15, 'n_estimators': 300}\n",
            "Accuracy: 0.9843 | Parameters: {'max_depth': 15, 'n_estimators': 200}\n",
            "Accuracy: 0.9841 | Parameters: {'max_depth': 15, 'n_estimators': 100}\n",
            "Accuracy: 0.9766 | Parameters: {'max_depth': 10, 'n_estimators': 300}\n",
            "Accuracy: 0.9764 | Parameters: {'max_depth': 10, 'n_estimators': 200}\n",
            "Accuracy: 0.9762 | Parameters: {'max_depth': 10, 'n_estimators': 100}\n",
            "Accuracy: 0.9317 | Parameters: {'max_depth': 5, 'n_estimators': 200}\n"
          ]
        }
      ],
      "source": [
        "# Get the top 10 results\n",
        "results = grid_search.cv_results_\n",
        "top_results_indices = results['mean_test_score'].argsort()[-10:][::-1]\n",
        "top_results = [results['mean_test_score'][i] for i in top_results_indices]\n",
        "top_params = [results['params'][i] for i in top_results_indices]\n",
        "\n",
        "# Print the top 10 accuracy, precision, and recall results\n",
        "print(\"Top 10 Evaluation Results:\")\n",
        "for score, params in zip(top_results, top_params):\n",
        "    print(f\"Accuracy: {score:.4f} | Parameters: {params}\")"
      ]
    },
    {
      "cell_type": "code",
      "execution_count": null,
      "metadata": {
        "colab": {
          "base_uri": "https://localhost:8080/"
        },
        "id": "-U-7PPi8-U-U",
        "outputId": "7aa90b99-4abb-4696-d267-f0b1a7aa1a66"
      },
      "outputs": [
        {
          "output_type": "stream",
          "name": "stdout",
          "text": [
            "Best Hyperparameters:\n",
            "max_depth: 20\n",
            "n_estimators: 300\n"
          ]
        }
      ],
      "source": [
        "print(\"Best Hyperparameters:\")\n",
        "for param, value in best_params.items():\n",
        "    print(f\"{param}: {value}\")"
      ]
    },
    {
      "cell_type": "code",
      "execution_count": null,
      "metadata": {
        "colab": {
          "base_uri": "https://localhost:8080/"
        },
        "id": "CLjsN2NYfW1W",
        "outputId": "4e467c7d-f68e-44e2-e55c-db623a1e90af"
      },
      "outputs": [
        {
          "output_type": "stream",
          "name": "stdout",
          "text": [
            "Accuracy: 0.9843984398439845\n"
          ]
        }
      ],
      "source": [
        "accuracy = accuracy_score(Y_test, y_pred)\n",
        "print(\"Accuracy:\", accuracy)"
      ]
    },
    {
      "cell_type": "markdown",
      "metadata": {
        "id": "tv-Dj6FRDW9H"
      },
      "source": [
        "#**Dataset 2: English Dataset**"
      ]
    },
    {
      "cell_type": "markdown",
      "metadata": {
        "id": "NrS1zTRKECjx"
      },
      "source": [
        "**Loading the data**"
      ]
    },
    {
      "cell_type": "code",
      "execution_count": null,
      "metadata": {
        "colab": {
          "base_uri": "https://localhost:8080/"
        },
        "id": "ADWPyVAkY7sO",
        "outputId": "db21e7c6-d249-41c7-af1a-29ecc7edbe49"
      },
      "outputs": [
        {
          "output_type": "stream",
          "name": "stdout",
          "text": [
            "Drive already mounted at /content/drive; to attempt to forcibly remount, call drive.mount(\"/content/drive\", force_remount=True).\n",
            "(41995, 785)\n"
          ]
        }
      ],
      "source": [
        "# Load the data from CSV files\n",
        "drive.mount('/content/drive')\n",
        "data = pd.read_csv('/content/drive/MyDrive/Handwritten Digits Recognition Project/Group4-Datasets/E-train.csv')\n",
        "print (data.shape ) #(42000, 785)\n"
      ]
    },
    {
      "cell_type": "markdown",
      "metadata": {
        "id": "cN4PSV6X5GxW"
      },
      "source": [
        "We need to normalize the pixel values of the images to a range between 0 and 1. To achieve this, we divide the pixel values by 255, which is the maximum pixel value. Normalization is necessary to ensure that all pixel values are within a consistent and standardized range. This helps the model learn more effectively and improves convergence during training."
      ]
    },
    {
      "cell_type": "code",
      "execution_count": null,
      "metadata": {
        "id": "7KckFEW1jNQu"
      },
      "outputs": [],
      "source": [
        "X = data.drop('label', axis=1)  # Features (input)\n",
        "y = data['label']  # Labels (output)\n",
        "\n",
        "# Normalize the image data by dividing by 255\n",
        "X_normalized = X / 255.0\n",
        "\n",
        "# Split the dataset into training and testing sets\n",
        "X_train, X_test, y_train, y_test = train_test_split(X, y, test_size=0.2, random_state=42)"
      ]
    },
    {
      "cell_type": "markdown",
      "metadata": {
        "id": "-nmtJlp85S1P"
      },
      "source": [
        "**Define the hyperparameters to tune**"
      ]
    },
    {
      "cell_type": "code",
      "execution_count": null,
      "metadata": {
        "id": "YR1Pp27RjWkz"
      },
      "outputs": [],
      "source": [
        "param_grid = {\n",
        "    'n_estimators': [100, 200, 300],\n",
        "    'max_depth': [5, 10, 15, 20],\n",
        "}"
      ]
    },
    {
      "cell_type": "markdown",
      "metadata": {
        "id": "B7ogD1ah5Xeh"
      },
      "source": [
        "**Create a Random Forest classifier**"
      ]
    },
    {
      "cell_type": "code",
      "execution_count": null,
      "metadata": {
        "id": "Bi4xIiHIjqIR"
      },
      "outputs": [],
      "source": [
        "rf_classifier = RandomForestClassifier(random_state=42)"
      ]
    },
    {
      "cell_type": "markdown",
      "metadata": {
        "id": "vQHSLgcp5bM2"
      },
      "source": [
        "**Perform grid search to find the best hyperparameters**"
      ]
    },
    {
      "cell_type": "code",
      "execution_count": null,
      "metadata": {
        "id": "KPm9nQH_jvwt",
        "colab": {
          "base_uri": "https://localhost:8080/"
        },
        "outputId": "26324b3a-b2df-4673-9bc2-9efa38922a0a"
      },
      "outputs": [
        {
          "output_type": "stream",
          "name": "stdout",
          "text": [
            "Best Hyperparameters:\n",
            "{'max_depth': 20, 'n_estimators': 300}\n"
          ]
        }
      ],
      "source": [
        "grid_search = GridSearchCV(estimator=rf_classifier, param_grid=param_grid, cv=5)\n",
        "grid_search.fit(X_train, y_train)\n",
        "\n",
        "# Get the best hyperparameters\n",
        "best_params = grid_search.best_params_\n",
        "\n",
        "# Print the best hyperparameters\n",
        "print(\"Best Hyperparameters:\")\n",
        "print(grid_search.best_params_)"
      ]
    },
    {
      "cell_type": "markdown",
      "metadata": {
        "id": "ZDdVfVEZ5gyR"
      },
      "source": [
        "**Create a new Random Forest classifier with the best hyperparameters**"
      ]
    },
    {
      "cell_type": "code",
      "execution_count": null,
      "metadata": {
        "id": "SEfEgDHwmshv"
      },
      "outputs": [],
      "source": [
        "best_rf_classifier = RandomForestClassifier(random_state=42, **best_params)"
      ]
    },
    {
      "cell_type": "markdown",
      "metadata": {
        "id": "by8WJaPW5ls6"
      },
      "source": [
        "**Train the model with the best hyperparameters and make predictions on the test set**"
      ]
    },
    {
      "cell_type": "code",
      "execution_count": null,
      "metadata": {
        "id": "abp2Etahm0oL"
      },
      "outputs": [],
      "source": [
        "best_rf_classifier.fit(X_train, y_train)\n",
        "y_pred = best_rf_classifier.predict(X_test)"
      ]
    },
    {
      "cell_type": "code",
      "execution_count": null,
      "metadata": {
        "colab": {
          "base_uri": "https://localhost:8080/"
        },
        "id": "DlZ9G5oeL9DL",
        "outputId": "ab819145-95ea-43f6-8f85-d3ee2e0aa1dd"
      },
      "outputs": [
        {
          "output_type": "stream",
          "name": "stdout",
          "text": [
            "Best Hyperparameters:\n",
            "max_depth: 20\n",
            "n_estimators: 300\n"
          ]
        }
      ],
      "source": [
        "print(\"Best Hyperparameters:\")\n",
        "for param, value in best_params.items():\n",
        "    print(f\"{param}: {value}\")"
      ]
    },
    {
      "cell_type": "markdown",
      "source": [
        "**Evaluate the model**"
      ],
      "metadata": {
        "id": "xoSYEada5txD"
      }
    },
    {
      "cell_type": "code",
      "source": [
        "print(classification_report(y_test, y_pred))"
      ],
      "metadata": {
        "colab": {
          "base_uri": "https://localhost:8080/"
        },
        "id": "tucmj--_-IPW",
        "outputId": "ed3a8449-7389-4895-c8f0-88677f7f12d6"
      },
      "execution_count": null,
      "outputs": [
        {
          "output_type": "stream",
          "name": "stdout",
          "text": [
            "              precision    recall  f1-score   support\n",
            "\n",
            "           0       0.98      0.99      0.99       816\n",
            "           1       0.98      0.99      0.99       909\n",
            "           2       0.97      0.97      0.97       846\n",
            "           3       0.96      0.94      0.95       937\n",
            "           4       0.96      0.97      0.97       839\n",
            "           5       0.97      0.96      0.96       702\n",
            "           6       0.97      0.98      0.97       785\n",
            "           7       0.97      0.95      0.96       893\n",
            "           8       0.96      0.96      0.96       835\n",
            "           9       0.93      0.94      0.94       838\n",
            "\n",
            "    accuracy                           0.97      8400\n",
            "   macro avg       0.97      0.97      0.97      8400\n",
            "weighted avg       0.97      0.97      0.97      8400\n",
            "\n"
          ]
        }
      ]
    },
    {
      "cell_type": "code",
      "source": [
        "# Confusion matrix\n",
        "cm = confusion_matrix(y_test, y_pred)\n",
        "\n",
        "# Plot the confusion matrix\n",
        "plt.figure(figsize=(8, 6))\n",
        "sns.heatmap(cm, square=True, annot=True, fmt='d', cbar=False)\n",
        "plt.xlabel('Predicted Labels')\n",
        "plt.ylabel('True Labels')\n",
        "plt.title('Confusion Matrix')\n",
        "plt.show()"
      ],
      "metadata": {
        "colab": {
          "base_uri": "https://localhost:8080/",
          "height": 564
        },
        "id": "I_oPLuNH1u7v",
        "outputId": "fa2f11a6-2aac-47c7-a080-2246c5a99d87"
      },
      "execution_count": null,
      "outputs": [
        {
          "output_type": "display_data",
          "data": {
            "text/plain": [
              "<Figure size 800x600 with 1 Axes>"
            ],
            "image/png": "[encoded data removed]"
          },
          "metadata": {}
        }
      ]
    },
    {
      "cell_type": "code",
      "execution_count": null,
      "metadata": {
        "colab": {
          "base_uri": "https://localhost:8080/"
        },
        "id": "gMUl_Wf3DWC7",
        "outputId": "cd1338f3-305f-4b06-e668-8f78108752a3"
      },
      "outputs": [
        {
          "output_type": "stream",
          "name": "stdout",
          "text": [
            "Top 10 Evaluation Results:\n",
            "Accuracy: 0.9634 | Parameters: {'max_depth': 20, 'n_estimators': 300}\n",
            "Accuracy: 0.9624 | Parameters: {'max_depth': 20, 'n_estimators': 200}\n",
            "Accuracy: 0.9615 | Parameters: {'max_depth': 20, 'n_estimators': 100}\n",
            "Accuracy: 0.9607 | Parameters: {'max_depth': 15, 'n_estimators': 200}\n",
            "Accuracy: 0.9604 | Parameters: {'max_depth': 15, 'n_estimators': 300}\n",
            "Accuracy: 0.9586 | Parameters: {'max_depth': 15, 'n_estimators': 100}\n",
            "Accuracy: 0.9441 | Parameters: {'max_depth': 10, 'n_estimators': 200}\n",
            "Accuracy: 0.9441 | Parameters: {'max_depth': 10, 'n_estimators': 300}\n",
            "Accuracy: 0.9432 | Parameters: {'max_depth': 10, 'n_estimators': 100}\n",
            "Accuracy: 0.8604 | Parameters: {'max_depth': 5, 'n_estimators': 300}\n"
          ]
        }
      ],
      "source": [
        "# Get the top 10 results\n",
        "results = grid_search.cv_results_\n",
        "top_results_indices = results['mean_test_score'].argsort()[-10:][::-1]\n",
        "top_results = [results['mean_test_score'][i] for i in top_results_indices]\n",
        "top_params = [results['params'][i] for i in top_results_indices]\n",
        "\n",
        "# Print the top 10 accuracy, precision, and recall results\n",
        "print(\"Top 10 Evaluation Results:\")\n",
        "for score, params in zip(top_results, top_params):\n",
        "    print(f\"Accuracy: {score:.4f} | Parameters: {params}\")"
      ]
    },
    {
      "cell_type": "markdown",
      "metadata": {
        "id": "pcooCZJIw_gq"
      },
      "source": [
        "We can see from the result that the Arabic dataset is performing better"
      ]
    },
    {
      "cell_type": "code",
      "execution_count": null,
      "metadata": {
        "colab": {
          "base_uri": "https://localhost:8080/"
        },
        "id": "vUK5T26PD2XP",
        "outputId": "f8aa1426-3d37-4f4d-f3e9-6d8d79644834"
      },
      "outputs": [
        {
          "output_type": "stream",
          "name": "stdout",
          "text": [
            "Accuracy: 0.9653571428571428\n"
          ]
        }
      ],
      "source": [
        "accuracy = accuracy_score(y_test, y_pred)\n",
        "print(\"Accuracy:\", accuracy)"
      ]
    },
    {
      "cell_type": "markdown",
      "metadata": {
        "id": "aPzP7x0VxdyX"
      },
      "source": [
        "It is evident that the Arabic dataset demonstrates higher accuracy, indicating its superior performance."
      ]
    },
    {
      "cell_type": "markdown",
      "metadata": {
        "id": "Ut3HsSuiyoB6"
      },
      "source": [
        "In conclusion, the results clearly demonstrate that the Arabic dataset outperforms the English dataset in terms of performance."
      ]
    }
  ],
  "metadata": {
    "accelerator": "GPU",
    "colab": {
      "provenance": [],
      "gpuType": "T4",
      "include_colab_link": true
    },
    "kernelspec": {
      "display_name": "Python 3",
      "name": "python3"
    },
    "language_info": {
      "name": "python"
    }
  },
  "nbformat": 4,
  "nbformat_minor": 0
}