{
  "nbformat": 4,
  "nbformat_minor": 0,
  "metadata": {
    "colab": {
      "provenance": [],
      "gpuType": "T4",
      "collapsed_sections": [
        "uPex-zpcJk-G",
        "ktYAHpJ2M1gR"
      ],
      "include_colab_link": true
    },
    "kernelspec": {
      "name": "python3",
      "display_name": "Python 3"
    },
    "language_info": {
      "name": "python"
    },
    "accelerator": "GPU"
  },
  "cells": [
    {
      "cell_type": "markdown",
      "metadata": {
        "id": "view-in-github",
        "colab_type": "text"
      },
      "source": [
        "<a href=\"https://colab.research.google.com/github/maha-rw/Handwritten-Digits-Recognition-in-Both-Arabic-and-English/blob/main/Handwritten_Digits_Recognition_Model_3___SVM.ipynb\" target=\"_parent\"><img src=\"https://colab.research.google.com/assets/colab-badge.svg\" alt=\"Open In Colab\"/></a>"
      ]
    },
    {
      "cell_type": "markdown",
      "source": [
        "**Handwritten Digits Recognition - Model #3 : SVM**"
      ],
      "metadata": {
        "id": "O6TpTSITRRZj"
      }
    },
    {
      "cell_type": "markdown",
      "source": [
        "# **Notebook Introduction**\n",
        "\n",
        " This notebook aims to utilize a SVM for the task of recognizing handwritten digits. The objective of this project is to develop a machine learning model that can accurately classify images of handwritten digits into their respective numeric values.\n",
        "\n",
        "\n",
        "*  This notebook is divided into two main sections:\n",
        "   1.   Arabic Dataset\n",
        "   2.   English Dataset\n",
        "\n",
        "\n",
        "\n",
        "*  both datasets have identical code in hyperparameter tuning but differ in loading the data due to different conditions of datsets files.\n",
        "\n",
        "\n",
        "*  To run the desired dataset, execute the section dedicated to it.\n",
        "\n",
        "\n"
      ],
      "metadata": {
        "id": "px7kWyBnYWmm"
      }
    },
    {
      "cell_type": "markdown",
      "source": [
        "## Import libraries"
      ],
      "metadata": {
        "id": "GcjNlKhWkiss"
      }
    },
    {
      "cell_type": "code",
      "source": [
        "import pandas as pd\n",
        "%matplotlib inline\n",
        "import numpy as np\n",
        "import matplotlib.pyplot as plt\n",
        "from scipy import stats\n",
        "import seaborn as sns; sns.set()\n",
        "\n",
        "from sklearn.model_selection import train_test_split\n",
        "from sklearn.decomposition import PCA\n",
        "\n",
        "from sklearn.svm import SVC\n",
        "from sklearn import svm\n",
        "\n",
        "from sklearn.pipeline import make_pipeline\n",
        "\n",
        "from sklearn.metrics import accuracy_score\n",
        "from sklearn.metrics import f1_score\n",
        "\n",
        "from sklearn.model_selection import GridSearchCV\n",
        "\n",
        "from sklearn.metrics import classification_report\n",
        "\n",
        "from sklearn.metrics import confusion_matrix\n",
        "\n",
        "from google.colab import drive\n",
        "\n"
      ],
      "metadata": {
        "id": "qT3ZtzgaYnA0"
      },
      "execution_count": null,
      "outputs": []
    },
    {
      "cell_type": "markdown",
      "source": [
        "# Dataset 1: Arabic Dataset\n",
        "\n",
        "Arabic handwritten digits database contains 60,000 training images, and 10,000 test images. MADBase were written by 700 writers. Each writer wrote each digit (from 0 -9) ten times. To ensure including different writing styles, the database was gathered from different institutions: Colleges of Engineering and Law, School of Medicine, the Open University (whose students span a wide range of ages), a high school, and a governmental institution.\n",
        "\n",
        "find the data here: *https://www.kaggle.com/datasets/mloey1/ahdd1*\n"
      ],
      "metadata": {
        "id": "96UKaFnegLnX"
      }
    },
    {
      "cell_type": "markdown",
      "source": [
        "### Loading the dataset\n",
        "\n"
      ],
      "metadata": {
        "id": "1lJkzytngeHW"
      }
    },
    {
      "cell_type": "code",
      "source": [
        "from google.colab import drive\n",
        "drive.mount('/content/drive')\n",
        "X_train = pd.read_csv(\"/content/drive/MyDrive/Handwritten Digits Recognition Project/Group4-Datasets/csvTrainImages 60k x 784.csv\").values\n",
        "Y_train = pd.read_csv(\"/content/drive/MyDrive/Handwritten Digits Recognition Project/Group4-Datasets/csvTrainLabel 60k x 1.csv\").values\n",
        "X_test = pd.read_csv(\"/content/drive/MyDrive/Handwritten Digits Recognition Project/Group4-Datasets/csvTestImages 10k x 784.csv\").values\n",
        "Y_test = pd.read_csv(\"/content/drive/MyDrive/Handwritten Digits Recognition Project/Group4-Datasets/csvTestLabel 10k x 1.csv\").values\n",
        "print (X_train.shape )\n",
        "print (Y_train.shape)\n"
      ],
      "metadata": {
        "colab": {
          "base_uri": "https://localhost:8080/"
        },
        "id": "mb_RvZdvgf3I",
        "outputId": "3f2180ab-b0fa-47ad-aaff-2a19f7f9eff8"
      },
      "execution_count": null,
      "outputs": [
        {
          "output_type": "stream",
          "name": "stdout",
          "text": [
            "Drive already mounted at /content/drive; to attempt to forcibly remount, call drive.mount(\"/content/drive\", force_remount=True).\n",
            "(59999, 784)\n",
            "(59999, 1)\n"
          ]
        }
      ]
    },
    {
      "cell_type": "markdown",
      "source": [
        "The input data is currently in a flattened format with 784 pixel values per sample. To prepare the data for image processing tasks, it needs to be **reshaped** into a 1D format, where each sample is represented as a vector of 784 elements. Reshaping the data allows us to match the expected input shape of models that analyze images"
      ],
      "metadata": {
        "id": "UI_OIqiDthSu"
      }
    },
    {
      "cell_type": "markdown",
      "source": [
        "We need to **normalize** the pixel values of the images to a range between 0 and 1. To achieve this, we divide the pixel values by 255, which is the maximum pixel value. Normalization is necessary to ensure that all pixel values are within a consistent and standardized range. This helps the model learn more effectively and improves convergence during training."
      ],
      "metadata": {
        "id": "gOlkjJ0_v8sH"
      }
    },
    {
      "cell_type": "code",
      "source": [
        "\n",
        "# Normalize the data\n",
        "X_train = X_train / 255.0\n",
        "X_test = X_test / 255.0\n",
        "\n",
        "#reshape data\n",
        "\n",
        "X_train = X_train.reshape(X_train.shape[0], -1)\n",
        "X_test = X_test.reshape(X_test.shape[0], -1)\n",
        "\n",
        "\n",
        "Y_train = Y_train.reshape( -1)\n",
        "\n",
        "# Print the shapes of the datasets\n",
        "print(\"Train set shape:\", X_train.shape)\n",
        "print(\"Test set shape:\", X_test.shape)"
      ],
      "metadata": {
        "colab": {
          "base_uri": "https://localhost:8080/"
        },
        "id": "lg57hsLJg_uw",
        "outputId": "cf0c9604-6314-43ec-c7ed-643e74f1580b"
      },
      "execution_count": null,
      "outputs": [
        {
          "output_type": "stream",
          "name": "stdout",
          "text": [
            "Train set shape: (59999, 784)\n",
            "Test set shape: (9999, 784)\n"
          ]
        }
      ]
    },
    {
      "cell_type": "markdown",
      "source": [
        "\n",
        "### Dimension reduction using PCA"
      ],
      "metadata": {
        "id": "IpsMs5Qhm2Ha"
      }
    },
    {
      "cell_type": "markdown",
      "source": [
        "The plot below show how much of the variance in the data is captured as the number of components increases. We utilize the elbow point to assess the best number of components which was around 150."
      ],
      "metadata": {
        "id": "kvejXkUbPinE"
      }
    },
    {
      "cell_type": "code",
      "source": [
        "pca = PCA().fit(X_train)\n",
        "plt.plot(np.cumsum(pca.explained_variance_ratio_))\n",
        "plt.xlabel('number of components')\n",
        "plt.ylabel('cumulative explained variance');"
      ],
      "metadata": {
        "colab": {
          "base_uri": "https://localhost:8080/",
          "height": 458
        },
        "id": "ab9WbkEEns4R",
        "outputId": "157edc0a-929b-41b9-f3c2-41af016f3015"
      },
      "execution_count": null,
      "outputs": [
        {
          "output_type": "display_data",
          "data": {
            "text/plain": [
              "<Figure size 640x480 with 1 Axes>"
            ],
            "image/png": "[encoded data removed]"
          },
          "metadata": {}
        }
      ]
    },
    {
      "cell_type": "markdown",
      "source": [
        "### Model training"
      ],
      "metadata": {
        "id": "dOko05Vin0Nb"
      }
    },
    {
      "cell_type": "markdown",
      "source": [
        "\n",
        "\n",
        "*   Create a PCA model\n",
        "*   Create an SVM model with RBF as kerel\n",
        "* Create a pipeline that combines the PCA and SVM models\n",
        "* Predict the test data using the model\n",
        "\n"
      ],
      "metadata": {
        "id": "3j7r9WCOmQWh"
      }
    },
    {
      "cell_type": "markdown",
      "source": [
        "**Training without optimal hyperparameter**"
      ],
      "metadata": {
        "id": "r517ni-fQeHa"
      }
    },
    {
      "cell_type": "code",
      "source": [
        "pca = PCA(150).fit(X_train)\n",
        "rbf = svm.SVC(kernel='rbf', gamma=0.005, C=5).fit(X_train, Y_train)\n",
        "model = make_pipeline(pca, rbf)\n",
        "rbf_pred = rbf.predict(X_test)"
      ],
      "metadata": {
        "id": "fowg7GSRrJ7z"
      },
      "execution_count": null,
      "outputs": []
    },
    {
      "cell_type": "code",
      "source": [
        "rbf_accuracy = accuracy_score(Y_test, rbf_pred)\n",
        "rbf_f1 = f1_score(Y_test, rbf_pred, average='weighted')\n",
        "print('Accuracy (RBF Kernel): ', \"%.2f\" % (rbf_accuracy*100))\n",
        "print('F1 (RBF Kernel): ', \"%.2f\" % (rbf_f1*100))"
      ],
      "metadata": {
        "colab": {
          "base_uri": "https://localhost:8080/"
        },
        "id": "-QQzoDpWF1gs",
        "outputId": "6ebe4d9b-e51b-4584-a280-653936b39d39"
      },
      "execution_count": null,
      "outputs": [
        {
          "output_type": "stream",
          "name": "stdout",
          "text": [
            "Accuracy (RBF Kernel):  98.19\n",
            "F1 (RBF Kernel):  98.19\n"
          ]
        }
      ]
    },
    {
      "cell_type": "markdown",
      "source": [
        "### Hyperparameter tuning"
      ],
      "metadata": {
        "id": "uPex-zpcJk-G"
      }
    },
    {
      "cell_type": "code",
      "source": [
        "param_grid = {'svc__C': [1, 5, 10],\n",
        "              'svc__gamma': [0.0005, 0.001, 0.005]}\n",
        "\n",
        "grid = GridSearchCV(model, param_grid, verbose=2)\n",
        "\n",
        "%time grid.fit(X_train, Y_train)"
      ],
      "metadata": {
        "colab": {
          "base_uri": "https://localhost:8080/",
          "height": 984
        },
        "id": "Y3RglUVuJkiP",
        "outputId": "0f16e0fc-0769-44f9-9952-cafa9212e7a3"
      },
      "execution_count": null,
      "outputs": [
        {
          "output_type": "stream",
          "name": "stdout",
          "text": [
            "Fitting 5 folds for each of 9 candidates, totalling 45 fits\n",
            "[CV] END ........................svc__C=1, svc__gamma=0.0005; total time= 2.2min\n",
            "[CV] END ........................svc__C=1, svc__gamma=0.0005; total time= 2.2min\n",
            "[CV] END ........................svc__C=1, svc__gamma=0.0005; total time= 2.2min\n",
            "[CV] END ........................svc__C=1, svc__gamma=0.0005; total time= 2.0min\n",
            "[CV] END ........................svc__C=1, svc__gamma=0.0005; total time= 2.0min\n",
            "[CV] END .........................svc__C=1, svc__gamma=0.001; total time= 1.5min\n",
            "[CV] END .........................svc__C=1, svc__gamma=0.001; total time= 1.5min\n",
            "[CV] END .........................svc__C=1, svc__gamma=0.001; total time= 1.6min\n",
            "[CV] END .........................svc__C=1, svc__gamma=0.001; total time= 1.5min\n",
            "[CV] END .........................svc__C=1, svc__gamma=0.001; total time= 1.4min\n",
            "[CV] END .........................svc__C=1, svc__gamma=0.005; total time=  55.3s\n",
            "[CV] END .........................svc__C=1, svc__gamma=0.005; total time=  54.8s\n",
            "[CV] END .........................svc__C=1, svc__gamma=0.005; total time=  52.4s\n",
            "[CV] END .........................svc__C=1, svc__gamma=0.005; total time=  52.7s\n",
            "[CV] END .........................svc__C=1, svc__gamma=0.005; total time=  54.3s\n",
            "[CV] END ........................svc__C=5, svc__gamma=0.0005; total time= 1.1min\n",
            "[CV] END ........................svc__C=5, svc__gamma=0.0005; total time= 1.1min\n",
            "[CV] END ........................svc__C=5, svc__gamma=0.0005; total time= 1.1min\n",
            "[CV] END ........................svc__C=5, svc__gamma=0.0005; total time= 1.1min\n",
            "[CV] END ........................svc__C=5, svc__gamma=0.0005; total time= 1.0min\n",
            "[CV] END .........................svc__C=5, svc__gamma=0.001; total time=  53.2s\n",
            "[CV] END .........................svc__C=5, svc__gamma=0.001; total time=  52.4s\n",
            "[CV] END .........................svc__C=5, svc__gamma=0.001; total time=  51.4s\n",
            "[CV] END .........................svc__C=5, svc__gamma=0.001; total time=  51.2s\n",
            "[CV] END .........................svc__C=5, svc__gamma=0.001; total time=  53.8s\n",
            "[CV] END .........................svc__C=5, svc__gamma=0.005; total time=  37.6s\n",
            "[CV] END .........................svc__C=5, svc__gamma=0.005; total time=  37.4s\n",
            "[CV] END .........................svc__C=5, svc__gamma=0.005; total time=  39.2s\n",
            "[CV] END .........................svc__C=5, svc__gamma=0.005; total time=  37.6s\n",
            "[CV] END .........................svc__C=5, svc__gamma=0.005; total time=  36.7s\n",
            "[CV] END .......................svc__C=10, svc__gamma=0.0005; total time=  54.7s\n",
            "[CV] END .......................svc__C=10, svc__gamma=0.0005; total time=  54.9s\n",
            "[CV] END .......................svc__C=10, svc__gamma=0.0005; total time=  52.6s\n",
            "[CV] END .......................svc__C=10, svc__gamma=0.0005; total time=  53.1s\n",
            "[CV] END .......................svc__C=10, svc__gamma=0.0005; total time=  54.0s\n",
            "[CV] END ........................svc__C=10, svc__gamma=0.001; total time=  43.6s\n",
            "[CV] END ........................svc__C=10, svc__gamma=0.001; total time=  44.5s\n",
            "[CV] END ........................svc__C=10, svc__gamma=0.001; total time=  45.6s\n",
            "[CV] END ........................svc__C=10, svc__gamma=0.001; total time=  44.9s\n",
            "[CV] END ........................svc__C=10, svc__gamma=0.001; total time=  43.6s\n",
            "[CV] END ........................svc__C=10, svc__gamma=0.005; total time=  35.9s\n",
            "[CV] END ........................svc__C=10, svc__gamma=0.005; total time=  35.0s\n",
            "[CV] END ........................svc__C=10, svc__gamma=0.005; total time=  34.5s\n",
            "[CV] END ........................svc__C=10, svc__gamma=0.005; total time=  33.9s\n",
            "[CV] END ........................svc__C=10, svc__gamma=0.005; total time=  34.8s\n",
            "CPU times: user 47min 52s, sys: 1min 58s, total: 49min 51s\n",
            "Wall time: 46min 57s\n"
          ]
        },
        {
          "output_type": "execute_result",
          "data": {
            "text/plain": [
              "GridSearchCV(estimator=Pipeline(steps=[('pca', PCA(n_components=150)),\n",
              "                                       ('svc', SVC(C=5, gamma=0.005))]),\n",
              "             param_grid={'svc__C': [1, 5, 10],\n",
              "                         'svc__gamma': [0.0005, 0.001, 0.005]},\n",
              "             verbose=2)"
            ],
            "text/html": [
              "<style>#sk-container-id-1 {color: black;background-color: white;}#sk-container-id-1 pre{padding: 0;}#sk-container-id-1 div.sk-toggleable {background-color: white;}#sk-container-id-1 label.sk-toggleable__label {cursor: pointer;display: block;width: 100%;margin-bottom: 0;padding: 0.3em;box-sizing: border-box;text-align: center;}#sk-container-id-1 label.sk-toggleable__label-arrow:before {content: \"▸\";float: left;margin-right: 0.25em;color: #696969;}#sk-container-id-1 label.sk-toggleable__label-arrow:hover:before {color: black;}#sk-container-id-1 div.sk-estimator:hover label.sk-toggleable__label-arrow:before {color: black;}#sk-container-id-1 div.sk-toggleable__content {max-height: 0;max-width: 0;overflow: hidden;text-align: left;background-color: #f0f8ff;}#sk-container-id-1 div.sk-toggleable__content pre {margin: 0.2em;color: black;border-radius: 0.25em;background-color: #f0f8ff;}#sk-container-id-1 input.sk-toggleable__control:checked~div.sk-toggleable__content {max-height: 200px;max-width: 100%;overflow: auto;}#sk-container-id-1 input.sk-toggleable__control:checked~label.sk-toggleable__label-arrow:before {content: \"▾\";}#sk-container-id-1 div.sk-estimator input.sk-toggleable__control:checked~label.sk-toggleable__label {background-color: #d4ebff;}#sk-container-id-1 div.sk-label input.sk-toggleable__control:checked~label.sk-toggleable__label {background-color: #d4ebff;}#sk-container-id-1 input.sk-hidden--visually {border: 0;clip: rect(1px 1px 1px 1px);clip: rect(1px, 1px, 1px, 1px);height: 1px;margin: -1px;overflow: hidden;padding: 0;position: absolute;width: 1px;}#sk-container-id-1 div.sk-estimator {font-family: monospace;background-color: #f0f8ff;border: 1px dotted black;border-radius: 0.25em;box-sizing: border-box;margin-bottom: 0.5em;}#sk-container-id-1 div.sk-estimator:hover {background-color: #d4ebff;}#sk-container-id-1 div.sk-parallel-item::after {content: \"\";width: 100%;border-bottom: 1px solid gray;flex-grow: 1;}#sk-container-id-1 div.sk-label:hover label.sk-toggleable__label {background-color: #d4ebff;}#sk-container-id-1 div.sk-serial::before {content: \"\";position: absolute;border-left: 1px solid gray;box-sizing: border-box;top: 0;bottom: 0;left: 50%;z-index: 0;}#sk-container-id-1 div.sk-serial {display: flex;flex-direction: column;align-items: center;background-color: white;padding-right: 0.2em;padding-left: 0.2em;position: relative;}#sk-container-id-1 div.sk-item {position: relative;z-index: 1;}#sk-container-id-1 div.sk-parallel {display: flex;align-items: stretch;justify-content: center;background-color: white;position: relative;}#sk-container-id-1 div.sk-item::before, #sk-container-id-1 div.sk-parallel-item::before {content: \"\";position: absolute;border-left: 1px solid gray;box-sizing: border-box;top: 0;bottom: 0;left: 50%;z-index: -1;}#sk-container-id-1 div.sk-parallel-item {display: flex;flex-direction: column;z-index: 1;position: relative;background-color: white;}#sk-container-id-1 div.sk-parallel-item:first-child::after {align-self: flex-end;width: 50%;}#sk-container-id-1 div.sk-parallel-item:last-child::after {align-self: flex-start;width: 50%;}#sk-container-id-1 div.sk-parallel-item:only-child::after {width: 0;}#sk-container-id-1 div.sk-dashed-wrapped {border: 1px dashed gray;margin: 0 0.4em 0.5em 0.4em;box-sizing: border-box;padding-bottom: 0.4em;background-color: white;}#sk-container-id-1 div.sk-label label {font-family: monospace;font-weight: bold;display: inline-block;line-height: 1.2em;}#sk-container-id-1 div.sk-label-container {text-align: center;}#sk-container-id-1 div.sk-container {/* jupyter's `normalize.less` sets `[hidden] { display: none; }` but bootstrap.min.css set `[hidden] { display: none !important; }` so we also need the `!important` here to be able to override the default hidden behavior on the sphinx rendered scikit-learn.org. See: https://github.com/scikit-learn/scikit-learn/issues/21755 */display: inline-block !important;position: relative;}#sk-container-id-1 div.sk-text-repr-fallback {display: none;}</style><div id=\"sk-container-id-1\" class=\"sk-top-container\"><div class=\"sk-text-repr-fallback\"><pre>GridSearchCV(estimator=Pipeline(steps=[(&#x27;pca&#x27;, PCA(n_components=150)),\n",
              "                                       (&#x27;svc&#x27;, SVC(C=5, gamma=0.005))]),\n",
              "             param_grid={&#x27;svc__C&#x27;: [1, 5, 10],\n",
              "                         &#x27;svc__gamma&#x27;: [0.0005, 0.001, 0.005]},\n",
              "             verbose=2)</pre><b>In a Jupyter environment, please rerun this cell to show the HTML representation or trust the notebook. <br />On GitHub, the HTML representation is unable to render, please try loading this page with nbviewer.org.</b></div><div class=\"sk-container\" hidden><div class=\"sk-item sk-dashed-wrapped\"><div class=\"sk-label-container\"><div class=\"sk-label sk-toggleable\"><input class=\"sk-toggleable__control sk-hidden--visually\" id=\"sk-estimator-id-1\" type=\"checkbox\" ><label for=\"sk-estimator-id-1\" class=\"sk-toggleable__label sk-toggleable__label-arrow\">GridSearchCV</label><div class=\"sk-toggleable__content\"><pre>GridSearchCV(estimator=Pipeline(steps=[(&#x27;pca&#x27;, PCA(n_components=150)),\n",
              "                                       (&#x27;svc&#x27;, SVC(C=5, gamma=0.005))]),\n",
              "             param_grid={&#x27;svc__C&#x27;: [1, 5, 10],\n",
              "                         &#x27;svc__gamma&#x27;: [0.0005, 0.001, 0.005]},\n",
              "             verbose=2)</pre></div></div></div><div class=\"sk-parallel\"><div class=\"sk-parallel-item\"><div class=\"sk-item\"><div class=\"sk-label-container\"><div class=\"sk-label sk-toggleable\"><input class=\"sk-toggleable__control sk-hidden--visually\" id=\"sk-estimator-id-2\" type=\"checkbox\" ><label for=\"sk-estimator-id-2\" class=\"sk-toggleable__label sk-toggleable__label-arrow\">estimator: Pipeline</label><div class=\"sk-toggleable__content\"><pre>Pipeline(steps=[(&#x27;pca&#x27;, PCA(n_components=150)), (&#x27;svc&#x27;, SVC(C=5, gamma=0.005))])</pre></div></div></div><div class=\"sk-serial\"><div class=\"sk-item\"><div class=\"sk-serial\"><div class=\"sk-item\"><div class=\"sk-estimator sk-toggleable\"><input class=\"sk-toggleable__control sk-hidden--visually\" id=\"sk-estimator-id-3\" type=\"checkbox\" ><label for=\"sk-estimator-id-3\" class=\"sk-toggleable__label sk-toggleable__label-arrow\">PCA</label><div class=\"sk-toggleable__content\"><pre>PCA(n_components=150)</pre></div></div></div><div class=\"sk-item\"><div class=\"sk-estimator sk-toggleable\"><input class=\"sk-toggleable__control sk-hidden--visually\" id=\"sk-estimator-id-4\" type=\"checkbox\" ><label for=\"sk-estimator-id-4\" class=\"sk-toggleable__label sk-toggleable__label-arrow\">SVC</label><div class=\"sk-toggleable__content\"><pre>SVC(C=5, gamma=0.005)</pre></div></div></div></div></div></div></div></div></div></div></div></div>"
            ]
          },
          "metadata": {},
          "execution_count": 9
        }
      ]
    },
    {
      "cell_type": "code",
      "source": [
        "print(f'Best parameters are: {grid.best_params_}')\n",
        "mean_score = grid.cv_results_['mean_test_score']\n",
        "std_score = grid.cv_results_['std_test_score']\n",
        "params = grid.cv_results_['params']\n",
        "for mean,std,params in zip(mean_score,std_score,params):\n",
        "      print(f'{round(mean,2)} + or -{round(std,2)} for the {params}')"
      ],
      "metadata": {
        "colab": {
          "base_uri": "https://localhost:8080/"
        },
        "id": "yN5J-nfqqz1T",
        "outputId": "5429eb07-5df4-4b5e-cf86-32114a7c9d04"
      },
      "execution_count": null,
      "outputs": [
        {
          "output_type": "stream",
          "name": "stdout",
          "text": [
            "Best parameters are: {'svc__C': 10, 'svc__gamma': 0.005}\n",
            "0.97 + or -0.0 for the {'svc__C': 1, 'svc__gamma': 0.0005}\n",
            "0.97 + or -0.0 for the {'svc__C': 1, 'svc__gamma': 0.001}\n",
            "0.98 + or -0.0 for the {'svc__C': 1, 'svc__gamma': 0.005}\n",
            "0.97 + or -0.0 for the {'svc__C': 5, 'svc__gamma': 0.0005}\n",
            "0.98 + or -0.0 for the {'svc__C': 5, 'svc__gamma': 0.001}\n",
            "0.98 + or -0.0 for the {'svc__C': 5, 'svc__gamma': 0.005}\n",
            "0.98 + or -0.0 for the {'svc__C': 10, 'svc__gamma': 0.0005}\n",
            "0.98 + or -0.0 for the {'svc__C': 10, 'svc__gamma': 0.001}\n",
            "0.99 + or -0.0 for the {'svc__C': 10, 'svc__gamma': 0.005}\n"
          ]
        }
      ]
    },
    {
      "cell_type": "markdown",
      "source": [
        "**Train with optimal hyperparameter**"
      ],
      "metadata": {
        "id": "-ZuF_IzxQ2Fm"
      }
    },
    {
      "cell_type": "code",
      "source": [
        "model = grid.best_estimator_\n",
        "ypred = model.predict(X_test)\n",
        "\n",
        "##calculate and print the accuracy and f1 scores for SVM with best RBF kernel:\n",
        "bestRBF_accuracy = accuracy_score(Y_test, ypred)\n",
        "bestRBF_f1 = f1_score(Y_test, ypred, average='weighted')\n",
        "print('Accuracy (Best RBF Kernel): ', \"%.2f\" % (bestRBF_accuracy*100))\n",
        "print('F1 (Best RBF Kernel): ', \"%.2f\" % (bestRBF_f1*100))"
      ],
      "metadata": {
        "colab": {
          "base_uri": "https://localhost:8080/"
        },
        "id": "zdUQnzpvrDn3",
        "outputId": "544805d2-7446-4b47-a7aa-333d42aac8d9"
      },
      "execution_count": null,
      "outputs": [
        {
          "output_type": "stream",
          "name": "stdout",
          "text": [
            "Accuracy (Best RBF Kernel):  98.28\n",
            "F1 (Best RBF Kernel):  98.28\n"
          ]
        }
      ]
    },
    {
      "cell_type": "markdown",
      "source": [
        "### Evaluation"
      ],
      "metadata": {
        "id": "ktYAHpJ2M1gR"
      }
    },
    {
      "cell_type": "code",
      "source": [
        "print(classification_report(Y_test, ypred\n",
        "                            ))"
      ],
      "metadata": {
        "colab": {
          "base_uri": "https://localhost:8080/"
        },
        "id": "v2AOYSlTrqkd",
        "outputId": "164eba5d-7abd-4871-9d02-8219f484e035"
      },
      "execution_count": null,
      "outputs": [
        {
          "output_type": "stream",
          "name": "stdout",
          "text": [
            "              precision    recall  f1-score   support\n",
            "\n",
            "           0       0.97      0.98      0.98       999\n",
            "           1       0.98      0.99      0.98      1000\n",
            "           2       0.96      0.98      0.97      1000\n",
            "           3       0.99      0.98      0.99      1000\n",
            "           4       0.99      0.97      0.98      1000\n",
            "           5       0.98      0.97      0.97      1000\n",
            "           6       0.99      0.99      0.99      1000\n",
            "           7       0.99      0.99      0.99      1000\n",
            "           8       0.99      0.99      0.99      1000\n",
            "           9       0.98      0.98      0.98      1000\n",
            "\n",
            "    accuracy                           0.98      9999\n",
            "   macro avg       0.98      0.98      0.98      9999\n",
            "weighted avg       0.98      0.98      0.98      9999\n",
            "\n"
          ]
        }
      ]
    },
    {
      "cell_type": "markdown",
      "source": [
        "Based on the high values of accuracy, precision, and recall (0.98), we can conclude that the SVM model performs exceptionally well on the given dataset. The model demonstrates a high level of accuracy in correctly predicting both positive and negative instances, with a precision of 0.98, indicating a low rate of false positives. Additionally, the recall value of 0.98 suggests that the model effectively captures a significant proportion of positive instances from the dataset. These results indicate that the model shows robust performance and can be considered highly reliable for the given task of classifiying handwritten digits images.\n",
        "\n",
        "\n",
        "---\n",
        "\n",
        "The heatmap below shows that most of the data was correctly classified, but 0 and 5 were classified incorrectly due to their shape being similar in some cases by people's handwriting.\n",
        "\n",
        "\n"
      ],
      "metadata": {
        "id": "0I-5-HWIrnc_"
      }
    },
    {
      "cell_type": "code",
      "source": [
        "mat = confusion_matrix(Y_test, ypred)\n",
        "sns.heatmap(mat.T, square=True, annot=True, fmt='d', cbar=False,\n",
        "            )\n",
        "plt.xlabel('true label')\n",
        "plt.ylabel('predicted label');"
      ],
      "metadata": {
        "colab": {
          "base_uri": "https://localhost:8080/",
          "height": 458
        },
        "id": "sWg_V52DsI6f",
        "outputId": "241de962-c23a-4f4b-f9a0-9eca3c6162ef"
      },
      "execution_count": null,
      "outputs": [
        {
          "output_type": "display_data",
          "data": {
            "text/plain": [
              "<Figure size 640x480 with 1 Axes>"
            ],
            "image/png": "[encoded data removed]"
          },
          "metadata": {}
        }
      ]
    },
    {
      "cell_type": "markdown",
      "source": [
        "# Dataset 2: English Dataset\n",
        "\n",
        "One issue we encountered with the English dataset is that it is divided into two separate files: one for training and one for testing. However, the testing file is missing the corresponding labels, making it impossible to accurately measure the performance of our model without knowing the true values. To address this problem, we have made the decision to utilize only the training set. We will further divide this training set into training, validation, and testing subsets. By doing so, we can overcome the issue of missing labels in the original testing file and ensure that we have reliable performance metrics for evaluating our model's effectiveness. This approach allows us to assess our model's performance accurately.\n",
        "\n",
        "\n",
        "find the data here: *https://www.kaggle.com/competitions/digit-recognizer/data*"
      ],
      "metadata": {
        "id": "HZX9WZiVuLfD"
      }
    },
    {
      "cell_type": "markdown",
      "source": [
        "### Loading dataset"
      ],
      "metadata": {
        "id": "HgyZ3fYJUNdQ"
      }
    },
    {
      "cell_type": "code",
      "source": [
        "drive.mount('/content/drive')\n",
        "data = pd.read_csv('/content/drive/MyDrive/Handwritten Digits Recognition Project/Group4-Datasets/E-train.csv')\n",
        "print (data.shape ) #(42000, 785)\n",
        "\n",
        "\n",
        "# Assuming 'data' contains your DataFrame\n",
        "total_null_count = data.isnull().sum().sum()\n",
        "\n",
        "print(\"Total Number of Null Values:\", total_null_count)\n"
      ],
      "metadata": {
        "colab": {
          "base_uri": "https://localhost:8080/"
        },
        "id": "L1XOqkJTuS5U",
        "outputId": "4ccd2722-aacf-4195-b559-b41e7feca2f0"
      },
      "execution_count": null,
      "outputs": [
        {
          "output_type": "stream",
          "name": "stdout",
          "text": [
            "Drive already mounted at /content/drive; to attempt to forcibly remount, call drive.mount(\"/content/drive\", force_remount=True).\n",
            "(41995, 785)\n",
            "Total Number of Null Values: 0\n"
          ]
        }
      ]
    },
    {
      "cell_type": "markdown",
      "source": [
        "The input data is currently in a flattened format with 784 pixel values per sample. To prepare the data for image processing tasks, it needs to be **reshaped** into a 1D format, where each sample is represented as a vector of 784 elements. Reshaping the data allows us to match the expected input shape of models that analyze images"
      ],
      "metadata": {
        "id": "93_nDXAlx37B"
      }
    },
    {
      "cell_type": "markdown",
      "source": [
        "We need to **normalize** the pixel values of the images to a range between 0 and 1. To achieve this, we divide the pixel values by 255, which is the maximum pixel value. Normalization is necessary to ensure that all pixel values are within a consistent and standardized range. This helps the model learn more effectively and improves convergence during training."
      ],
      "metadata": {
        "id": "SCm4yOEnw3yZ"
      }
    },
    {
      "cell_type": "code",
      "source": [
        "# Assuming 'data' contains your loaded DataFrame\n",
        "X = data.drop('label', axis=1)  # Features (input)\n",
        "y = data['label']  # Labels (output)\n",
        "\n",
        "# Normalize the image data by dividing by 255\n",
        "X_normalized = X / 255.0\n",
        "\n",
        "\n",
        "# Split the normalized and reshaped data into train, validation, and test sets\n",
        "xtrain, xtest, ytrain, ytest = train_test_split(X_normalized, y,random_state=42)#\n",
        "\n",
        "\n",
        "print(\"Shapes:\")\n",
        "print(\"X_train:\", xtrain.shape)\n",
        "print(\"X_test:\", xtest.shape)\n",
        "print(\"y_train:\", ytrain.shape)\n",
        "\n",
        "print(\"y_test:\", ytest.shape)"
      ],
      "metadata": {
        "colab": {
          "base_uri": "https://localhost:8080/"
        },
        "id": "0iZQ6vy9yL4O",
        "outputId": "bd79f759-7903-4dda-e85b-dc7a75026d2c"
      },
      "execution_count": null,
      "outputs": [
        {
          "output_type": "stream",
          "name": "stdout",
          "text": [
            "Shapes:\n",
            "X_train: (31500, 784)\n",
            "X_test: (10500, 784)\n",
            "y_train: (31500,)\n",
            "y_test: (10500,)\n"
          ]
        }
      ]
    },
    {
      "cell_type": "markdown",
      "source": [
        "### Dimension reduction using PCA"
      ],
      "metadata": {
        "id": "0RB-j5Wo14E9"
      }
    },
    {
      "cell_type": "markdown",
      "source": [
        "The plot below show how much of the variance in the data is captured as the number of components increases. We utilize the elbow point to assess the best number of components which was around 150."
      ],
      "metadata": {
        "id": "98kI8M0nUhos"
      }
    },
    {
      "cell_type": "code",
      "source": [
        "pca = PCA().fit(xtrain)\n",
        "plt.plot(np.cumsum(pca.explained_variance_ratio_))\n",
        "plt.xlabel('number of components')\n",
        "plt.ylabel('cumulative explained variance');"
      ],
      "metadata": {
        "colab": {
          "base_uri": "https://localhost:8080/",
          "height": 458
        },
        "id": "M6ghj3ha15HB",
        "outputId": "986385ca-afde-4692-8609-2fb69276063a"
      },
      "execution_count": null,
      "outputs": [
        {
          "output_type": "display_data",
          "data": {
            "text/plain": [
              "<Figure size 640x480 with 1 Axes>"
            ],
            "image/png": "[encoded data removed]"
          },
          "metadata": {}
        }
      ]
    },
    {
      "cell_type": "markdown",
      "source": [
        "### Model training"
      ],
      "metadata": {
        "id": "yVulV9DtU1nq"
      }
    },
    {
      "cell_type": "markdown",
      "source": [
        "*   Create a PCA model\n",
        "*   Create an SVM model with RBF as kerel\n",
        "* Create a pipeline that combines the PCA and SVM models\n",
        "* Predict the test data using the model\n"
      ],
      "metadata": {
        "id": "bZjSqZ1NU87B"
      }
    },
    {
      "cell_type": "markdown",
      "source": [
        "**Train Dataset without optimal hyperparameter**"
      ],
      "metadata": {
        "id": "hRcZwiP3Upej"
      }
    },
    {
      "cell_type": "code",
      "source": [
        "pca = PCA(100).fit(xtrain)\n",
        "rbf_pca = svm.SVC(kernel='rbf', gamma=0.005, C=5).fit(xtrain, ytrain)\n",
        "model = make_pipeline(pca, rbf_pca)\n",
        "\n",
        "rbf_pca_pred = rbf_pca.predict(xtest)"
      ],
      "metadata": {
        "id": "pfTgQskONflu"
      },
      "execution_count": null,
      "outputs": []
    },
    {
      "cell_type": "code",
      "source": [
        "##calculate and print the accuracy and f1 scores for SVM with RBF kernel:\n",
        "rbf_pca_accuracy = accuracy_score(ytest, rbf_pca_pred)\n",
        "rbf_pca_f1 = f1_score(ytest, rbf_pca_pred, average='weighted')\n",
        "print('Accuracy (RBF Kernel): ', \"%.2f\" % (rbf_pca_accuracy*100))\n",
        "print('F1 (RBF Kernel): ', \"%.2f\" % (rbf_pca_f1*100))"
      ],
      "metadata": {
        "colab": {
          "base_uri": "https://localhost:8080/"
        },
        "id": "LxTpol06N1MK",
        "outputId": "22f77579-9d40-4a46-9710-b6d27290331d"
      },
      "execution_count": null,
      "outputs": [
        {
          "output_type": "stream",
          "name": "stdout",
          "text": [
            "Accuracy (RBF Kernel):  97.18\n",
            "F1 (RBF Kernel):  97.18\n"
          ]
        }
      ]
    },
    {
      "cell_type": "markdown",
      "source": [
        "### Hyperparameter Tuning"
      ],
      "metadata": {
        "id": "qMaIdY5_Olhj"
      }
    },
    {
      "cell_type": "code",
      "source": [
        "param_grid = {'svc__C': [1, 5, 10],\n",
        "              'svc__gamma': [0.0005, 0.001, 0.005]}\n",
        "\n",
        "\n",
        "\n",
        "grid = GridSearchCV(model, param_grid, verbose=2)\n",
        "\n",
        "\n",
        "%time grid.fit(xtrain, ytrain)"
      ],
      "metadata": {
        "colab": {
          "base_uri": "https://localhost:8080/",
          "height": 984
        },
        "id": "cAUf4dQ2OmzA",
        "outputId": "e51bf19c-0649-4669-a827-4a346785c3f8"
      },
      "execution_count": null,
      "outputs": [
        {
          "output_type": "stream",
          "name": "stdout",
          "text": [
            "Fitting 5 folds for each of 9 candidates, totalling 45 fits\n",
            "[CV] END ........................svc__C=1, svc__gamma=0.0005; total time=  44.0s\n",
            "[CV] END ........................svc__C=1, svc__gamma=0.0005; total time=  41.0s\n",
            "[CV] END ........................svc__C=1, svc__gamma=0.0005; total time=  44.0s\n",
            "[CV] END ........................svc__C=1, svc__gamma=0.0005; total time=  40.3s\n",
            "[CV] END ........................svc__C=1, svc__gamma=0.0005; total time=  43.0s\n",
            "[CV] END .........................svc__C=1, svc__gamma=0.001; total time=  34.5s\n",
            "[CV] END .........................svc__C=1, svc__gamma=0.001; total time=  31.0s\n",
            "[CV] END .........................svc__C=1, svc__gamma=0.001; total time=  29.7s\n",
            "[CV] END .........................svc__C=1, svc__gamma=0.001; total time=  30.2s\n",
            "[CV] END .........................svc__C=1, svc__gamma=0.001; total time=  31.7s\n",
            "[CV] END .........................svc__C=1, svc__gamma=0.005; total time=  19.2s\n",
            "[CV] END .........................svc__C=1, svc__gamma=0.005; total time=  19.6s\n",
            "[CV] END .........................svc__C=1, svc__gamma=0.005; total time=  21.8s\n",
            "[CV] END .........................svc__C=1, svc__gamma=0.005; total time=  21.8s\n",
            "[CV] END .........................svc__C=1, svc__gamma=0.005; total time=  20.2s\n",
            "[CV] END ........................svc__C=5, svc__gamma=0.0005; total time=  22.1s\n",
            "[CV] END ........................svc__C=5, svc__gamma=0.0005; total time=  26.4s\n",
            "[CV] END ........................svc__C=5, svc__gamma=0.0005; total time=  22.5s\n",
            "[CV] END ........................svc__C=5, svc__gamma=0.0005; total time=  23.1s\n",
            "[CV] END ........................svc__C=5, svc__gamma=0.0005; total time=  25.1s\n",
            "[CV] END .........................svc__C=5, svc__gamma=0.001; total time=  19.6s\n",
            "[CV] END .........................svc__C=5, svc__gamma=0.001; total time=  19.0s\n",
            "[CV] END .........................svc__C=5, svc__gamma=0.001; total time=  19.2s\n",
            "[CV] END .........................svc__C=5, svc__gamma=0.001; total time=  21.3s\n",
            "[CV] END .........................svc__C=5, svc__gamma=0.001; total time=  22.1s\n",
            "[CV] END .........................svc__C=5, svc__gamma=0.005; total time=  15.8s\n",
            "[CV] END .........................svc__C=5, svc__gamma=0.005; total time=  15.1s\n",
            "[CV] END .........................svc__C=5, svc__gamma=0.005; total time=  15.1s\n",
            "[CV] END .........................svc__C=5, svc__gamma=0.005; total time=  15.6s\n",
            "[CV] END .........................svc__C=5, svc__gamma=0.005; total time=  15.7s\n",
            "[CV] END .......................svc__C=10, svc__gamma=0.0005; total time=  19.2s\n",
            "[CV] END .......................svc__C=10, svc__gamma=0.0005; total time=  21.4s\n",
            "[CV] END .......................svc__C=10, svc__gamma=0.0005; total time=  22.2s\n",
            "[CV] END .......................svc__C=10, svc__gamma=0.0005; total time=  20.3s\n",
            "[CV] END .......................svc__C=10, svc__gamma=0.0005; total time=  19.3s\n",
            "[CV] END ........................svc__C=10, svc__gamma=0.001; total time=  17.4s\n",
            "[CV] END ........................svc__C=10, svc__gamma=0.001; total time=  17.0s\n",
            "[CV] END ........................svc__C=10, svc__gamma=0.001; total time=  17.4s\n",
            "[CV] END ........................svc__C=10, svc__gamma=0.001; total time=  17.4s\n",
            "[CV] END ........................svc__C=10, svc__gamma=0.001; total time=  17.3s\n",
            "[CV] END ........................svc__C=10, svc__gamma=0.005; total time=  14.7s\n",
            "[CV] END ........................svc__C=10, svc__gamma=0.005; total time=  13.8s\n",
            "[CV] END ........................svc__C=10, svc__gamma=0.005; total time=  14.2s\n",
            "[CV] END ........................svc__C=10, svc__gamma=0.005; total time=  14.1s\n",
            "[CV] END ........................svc__C=10, svc__gamma=0.005; total time=  14.1s\n",
            "CPU times: user 17min 26s, sys: 1min 12s, total: 18min 38s\n",
            "Wall time: 17min 22s\n"
          ]
        },
        {
          "output_type": "execute_result",
          "data": {
            "text/plain": [
              "GridSearchCV(estimator=Pipeline(steps=[('pca', PCA(n_components=100)),\n",
              "                                       ('svc', SVC(C=5, gamma=0.005))]),\n",
              "             param_grid={'svc__C': [1, 5, 10],\n",
              "                         'svc__gamma': [0.0005, 0.001, 0.005]},\n",
              "             verbose=2)"
            ],
            "text/html": [
              "<style>#sk-container-id-1 {color: black;background-color: white;}#sk-container-id-1 pre{padding: 0;}#sk-container-id-1 div.sk-toggleable {background-color: white;}#sk-container-id-1 label.sk-toggleable__label {cursor: pointer;display: block;width: 100%;margin-bottom: 0;padding: 0.3em;box-sizing: border-box;text-align: center;}#sk-container-id-1 label.sk-toggleable__label-arrow:before {content: \"▸\";float: left;margin-right: 0.25em;color: #696969;}#sk-container-id-1 label.sk-toggleable__label-arrow:hover:before {color: black;}#sk-container-id-1 div.sk-estimator:hover label.sk-toggleable__label-arrow:before {color: black;}#sk-container-id-1 div.sk-toggleable__content {max-height: 0;max-width: 0;overflow: hidden;text-align: left;background-color: #f0f8ff;}#sk-container-id-1 div.sk-toggleable__content pre {margin: 0.2em;color: black;border-radius: 0.25em;background-color: #f0f8ff;}#sk-container-id-1 input.sk-toggleable__control:checked~div.sk-toggleable__content {max-height: 200px;max-width: 100%;overflow: auto;}#sk-container-id-1 input.sk-toggleable__control:checked~label.sk-toggleable__label-arrow:before {content: \"▾\";}#sk-container-id-1 div.sk-estimator input.sk-toggleable__control:checked~label.sk-toggleable__label {background-color: #d4ebff;}#sk-container-id-1 div.sk-label input.sk-toggleable__control:checked~label.sk-toggleable__label {background-color: #d4ebff;}#sk-container-id-1 input.sk-hidden--visually {border: 0;clip: rect(1px 1px 1px 1px);clip: rect(1px, 1px, 1px, 1px);height: 1px;margin: -1px;overflow: hidden;padding: 0;position: absolute;width: 1px;}#sk-container-id-1 div.sk-estimator {font-family: monospace;background-color: #f0f8ff;border: 1px dotted black;border-radius: 0.25em;box-sizing: border-box;margin-bottom: 0.5em;}#sk-container-id-1 div.sk-estimator:hover {background-color: #d4ebff;}#sk-container-id-1 div.sk-parallel-item::after {content: \"\";width: 100%;border-bottom: 1px solid gray;flex-grow: 1;}#sk-container-id-1 div.sk-label:hover label.sk-toggleable__label {background-color: #d4ebff;}#sk-container-id-1 div.sk-serial::before {content: \"\";position: absolute;border-left: 1px solid gray;box-sizing: border-box;top: 0;bottom: 0;left: 50%;z-index: 0;}#sk-container-id-1 div.sk-serial {display: flex;flex-direction: column;align-items: center;background-color: white;padding-right: 0.2em;padding-left: 0.2em;position: relative;}#sk-container-id-1 div.sk-item {position: relative;z-index: 1;}#sk-container-id-1 div.sk-parallel {display: flex;align-items: stretch;justify-content: center;background-color: white;position: relative;}#sk-container-id-1 div.sk-item::before, #sk-container-id-1 div.sk-parallel-item::before {content: \"\";position: absolute;border-left: 1px solid gray;box-sizing: border-box;top: 0;bottom: 0;left: 50%;z-index: -1;}#sk-container-id-1 div.sk-parallel-item {display: flex;flex-direction: column;z-index: 1;position: relative;background-color: white;}#sk-container-id-1 div.sk-parallel-item:first-child::after {align-self: flex-end;width: 50%;}#sk-container-id-1 div.sk-parallel-item:last-child::after {align-self: flex-start;width: 50%;}#sk-container-id-1 div.sk-parallel-item:only-child::after {width: 0;}#sk-container-id-1 div.sk-dashed-wrapped {border: 1px dashed gray;margin: 0 0.4em 0.5em 0.4em;box-sizing: border-box;padding-bottom: 0.4em;background-color: white;}#sk-container-id-1 div.sk-label label {font-family: monospace;font-weight: bold;display: inline-block;line-height: 1.2em;}#sk-container-id-1 div.sk-label-container {text-align: center;}#sk-container-id-1 div.sk-container {/* jupyter's `normalize.less` sets `[hidden] { display: none; }` but bootstrap.min.css set `[hidden] { display: none !important; }` so we also need the `!important` here to be able to override the default hidden behavior on the sphinx rendered scikit-learn.org. See: https://github.com/scikit-learn/scikit-learn/issues/21755 */display: inline-block !important;position: relative;}#sk-container-id-1 div.sk-text-repr-fallback {display: none;}</style><div id=\"sk-container-id-1\" class=\"sk-top-container\"><div class=\"sk-text-repr-fallback\"><pre>GridSearchCV(estimator=Pipeline(steps=[(&#x27;pca&#x27;, PCA(n_components=100)),\n",
              "                                       (&#x27;svc&#x27;, SVC(C=5, gamma=0.005))]),\n",
              "             param_grid={&#x27;svc__C&#x27;: [1, 5, 10],\n",
              "                         &#x27;svc__gamma&#x27;: [0.0005, 0.001, 0.005]},\n",
              "             verbose=2)</pre><b>In a Jupyter environment, please rerun this cell to show the HTML representation or trust the notebook. <br />On GitHub, the HTML representation is unable to render, please try loading this page with nbviewer.org.</b></div><div class=\"sk-container\" hidden><div class=\"sk-item sk-dashed-wrapped\"><div class=\"sk-label-container\"><div class=\"sk-label sk-toggleable\"><input class=\"sk-toggleable__control sk-hidden--visually\" id=\"sk-estimator-id-1\" type=\"checkbox\" ><label for=\"sk-estimator-id-1\" class=\"sk-toggleable__label sk-toggleable__label-arrow\">GridSearchCV</label><div class=\"sk-toggleable__content\"><pre>GridSearchCV(estimator=Pipeline(steps=[(&#x27;pca&#x27;, PCA(n_components=100)),\n",
              "                                       (&#x27;svc&#x27;, SVC(C=5, gamma=0.005))]),\n",
              "             param_grid={&#x27;svc__C&#x27;: [1, 5, 10],\n",
              "                         &#x27;svc__gamma&#x27;: [0.0005, 0.001, 0.005]},\n",
              "             verbose=2)</pre></div></div></div><div class=\"sk-parallel\"><div class=\"sk-parallel-item\"><div class=\"sk-item\"><div class=\"sk-label-container\"><div class=\"sk-label sk-toggleable\"><input class=\"sk-toggleable__control sk-hidden--visually\" id=\"sk-estimator-id-2\" type=\"checkbox\" ><label for=\"sk-estimator-id-2\" class=\"sk-toggleable__label sk-toggleable__label-arrow\">estimator: Pipeline</label><div class=\"sk-toggleable__content\"><pre>Pipeline(steps=[(&#x27;pca&#x27;, PCA(n_components=100)), (&#x27;svc&#x27;, SVC(C=5, gamma=0.005))])</pre></div></div></div><div class=\"sk-serial\"><div class=\"sk-item\"><div class=\"sk-serial\"><div class=\"sk-item\"><div class=\"sk-estimator sk-toggleable\"><input class=\"sk-toggleable__control sk-hidden--visually\" id=\"sk-estimator-id-3\" type=\"checkbox\" ><label for=\"sk-estimator-id-3\" class=\"sk-toggleable__label sk-toggleable__label-arrow\">PCA</label><div class=\"sk-toggleable__content\"><pre>PCA(n_components=100)</pre></div></div></div><div class=\"sk-item\"><div class=\"sk-estimator sk-toggleable\"><input class=\"sk-toggleable__control sk-hidden--visually\" id=\"sk-estimator-id-4\" type=\"checkbox\" ><label for=\"sk-estimator-id-4\" class=\"sk-toggleable__label sk-toggleable__label-arrow\">SVC</label><div class=\"sk-toggleable__content\"><pre>SVC(C=5, gamma=0.005)</pre></div></div></div></div></div></div></div></div></div></div></div></div>"
            ]
          },
          "metadata": {},
          "execution_count": 15
        }
      ]
    },
    {
      "cell_type": "code",
      "source": [
        "print(f'Best parameters are: {grid.best_params_}')\n",
        "mean_score = grid.cv_results_['mean_test_score']\n",
        "std_score = grid.cv_results_['std_test_score']\n",
        "params = grid.cv_results_['params']\n",
        "for mean,std,params in zip(mean_score,std_score,params):\n",
        "      print(f'{round(mean,2)} + or -{round(std,2)} for the {params}')"
      ],
      "metadata": {
        "colab": {
          "base_uri": "https://localhost:8080/"
        },
        "id": "sV-Vhh3wTFfA",
        "outputId": "466ac767-c668-43e4-e851-62922568d900"
      },
      "execution_count": null,
      "outputs": [
        {
          "output_type": "stream",
          "name": "stdout",
          "text": [
            "Best parameters are: {'svc__C': 10, 'svc__gamma': 0.005}\n",
            "0.92 + or -0.0 for the {'svc__C': 1, 'svc__gamma': 0.0005}\n",
            "0.93 + or -0.0 for the {'svc__C': 1, 'svc__gamma': 0.001}\n",
            "0.96 + or -0.0 for the {'svc__C': 1, 'svc__gamma': 0.005}\n",
            "0.93 + or -0.0 for the {'svc__C': 5, 'svc__gamma': 0.0005}\n",
            "0.94 + or -0.0 for the {'svc__C': 5, 'svc__gamma': 0.001}\n",
            "0.97 + or -0.0 for the {'svc__C': 5, 'svc__gamma': 0.005}\n",
            "0.94 + or -0.0 for the {'svc__C': 10, 'svc__gamma': 0.0005}\n",
            "0.95 + or -0.0 for the {'svc__C': 10, 'svc__gamma': 0.001}\n",
            "0.97 + or -0.0 for the {'svc__C': 10, 'svc__gamma': 0.005}\n"
          ]
        }
      ]
    },
    {
      "cell_type": "markdown",
      "source": [
        "**Train model with optimal hyperparameter**"
      ],
      "metadata": {
        "id": "nMoZK6V2Vcas"
      }
    },
    {
      "cell_type": "code",
      "source": [
        "model = grid.best_estimator_\n",
        "ypred = model.predict(xtest)\n",
        "\n",
        "##calculate and print the accuracy and f1 scores for SVM with best RBF kernel:\n",
        "bestRBF_accuracy = accuracy_score(ytest, ypred)\n",
        "bestRBF_f1 = f1_score(ytest, ypred, average='weighted')\n",
        "print('Accuracy (Best RBF Kernel): ', \"%.2f\" % (bestRBF_accuracy*100))\n",
        "print('F1 (Best RBF Kernel): ', \"%.2f\" % (bestRBF_f1*100))"
      ],
      "metadata": {
        "colab": {
          "base_uri": "https://localhost:8080/"
        },
        "id": "xmyjREW7TKx_",
        "outputId": "e632e5dd-3b15-4ff0-e06a-3384a412cb13"
      },
      "execution_count": null,
      "outputs": [
        {
          "output_type": "stream",
          "name": "stdout",
          "text": [
            "Accuracy (Best RBF Kernel):  97.53\n",
            "F1 (Best RBF Kernel):  97.53\n"
          ]
        }
      ]
    },
    {
      "cell_type": "markdown",
      "source": [
        "### Evaluation"
      ],
      "metadata": {
        "id": "cPsyTDIrTWjK"
      }
    },
    {
      "cell_type": "code",
      "source": [
        "print(classification_report(ytest, ypred\n",
        "                            ))"
      ],
      "metadata": {
        "colab": {
          "base_uri": "https://localhost:8080/"
        },
        "id": "BY-auJpNTXlu",
        "outputId": "e41e550c-9714-4fcf-8df6-1591fc4b12aa"
      },
      "execution_count": null,
      "outputs": [
        {
          "output_type": "stream",
          "name": "stdout",
          "text": [
            "              precision    recall  f1-score   support\n",
            "\n",
            "           0       0.98      0.99      0.99      1025\n",
            "           1       0.98      0.99      0.99      1146\n",
            "           2       0.98      0.97      0.97      1072\n",
            "           3       0.97      0.97      0.97      1151\n",
            "           4       0.97      0.97      0.97      1024\n",
            "           5       0.97      0.96      0.97       898\n",
            "           6       0.98      0.99      0.98      1010\n",
            "           7       0.98      0.97      0.98      1135\n",
            "           8       0.98      0.98      0.98      1005\n",
            "           9       0.96      0.96      0.96      1034\n",
            "\n",
            "    accuracy                           0.98     10500\n",
            "   macro avg       0.98      0.98      0.98     10500\n",
            "weighted avg       0.98      0.98      0.98     10500\n",
            "\n"
          ]
        }
      ]
    },
    {
      "cell_type": "markdown",
      "source": [
        "Based on the high values of accuracy, precision, and recall (0.98), we can conclude that the SVM model performs exceptionally well on the given dataset. The model demonstrates a high level of accuracy in correctly predicting both positive and negative instances, with a precision of 0.98, indicating a low rate of false positives. Additionally, the recall value of 0.98 suggests that the model effectively captures a significant proportion of positive instances from the dataset. These results indicate that the model shows robust performance and can be considered highly reliable for the given task of classifiying handwritten digits images.\n",
        "\n",
        "\n",
        "---\n",
        "\n",
        "The heatmap below shows that most of the data was correctly classified, but 4 and 9 were classified incorrectly due to their shape being similar in some cases by people's handwriting."
      ],
      "metadata": {
        "id": "eL9Dz6vPV1Tt"
      }
    },
    {
      "cell_type": "code",
      "source": [
        "mat = confusion_matrix(ytest, ypred)\n",
        "sns.heatmap(mat.T, square=True, annot=True, fmt='d', cbar=False,\n",
        "            )\n",
        "plt.xlabel('true label')\n",
        "plt.ylabel('predicted label');"
      ],
      "metadata": {
        "id": "gXU-pyanTdo-",
        "outputId": "22ea9fd6-72f7-402f-907e-fad33724d3e7",
        "colab": {
          "base_uri": "https://localhost:8080/",
          "height": 458
        }
      },
      "execution_count": null,
      "outputs": [
        {
          "output_type": "display_data",
          "data": {
            "text/plain": [
              "<Figure size 640x480 with 1 Axes>"
            ],
            "image/png": "[encoded data removed]"
          },
          "metadata": {}
        }
      ]
    },
    {
      "cell_type": "markdown",
      "source": [
        "# **Summary**\n",
        "\n",
        "In conclusion the SVM model with PCA as feature extraction has preformed amazingly well on both datasets with Arabic dataset having higher accuracy due to the fact that the English dataset missing the test labels which led us to split the train dataset having a less examples to experiment with."
      ],
      "metadata": {
        "id": "_WWCS9i38XpB"
      }
    }
  ]
}